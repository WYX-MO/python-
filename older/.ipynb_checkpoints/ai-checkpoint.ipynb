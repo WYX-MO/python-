{
 "cells": [
  {
   "cell_type": "markdown",
   "id": "54bbc053-22eb-4e4c-a095-773f64d4fe35",
   "metadata": {},
   "source": [
    "# opencv操作"
   ]
  },
  {
   "cell_type": "code",
   "execution_count": 2,
   "id": "b009a114-1524-4b7c-9beb-8fa7ddb7973f",
   "metadata": {},
   "outputs": [],
   "source": [
    "import cv2#opencv包,默認讀取BGR\n",
    "import matplotlib.pyplot as plt#便於展示的工具,顯示圖標\n",
    "import numpy as np\n",
    "%matplotlib inline\n",
    "\n",
    "img = cv2.imread('img1.jpg')#get imagine\n",
    "#img = cv2.imread('img1.jpg',cv2.IMREAD_GRAYSCALE)灰度圖\n"
   ]
  },
  {
   "cell_type": "code",
   "execution_count": 3,
   "id": "cbf330ec-4997-4fe0-a8b6-18eef4f89a2e",
   "metadata": {},
   "outputs": [],
   "source": [
    "cv2.imshow('image',img)\n",
    "cv2.waitKey(0)#0為不自動消失,按任意鍵消失,單位毫秒\n",
    "cv2.destroyAllWindows()"
   ]
  },
  {
   "cell_type": "code",
   "execution_count": 4,
   "id": "7bced852-4dfc-4230-b9e2-3343ee0856fe",
   "metadata": {},
   "outputs": [
    {
     "data": {
      "text/plain": [
       "(472, 474, 3)"
      ]
     },
     "execution_count": 4,
     "metadata": {},
     "output_type": "execute_result"
    }
   ],
   "source": [
    "img.shape"
   ]
  },
  {
   "cell_type": "code",
   "execution_count": 5,
   "id": "80a2b635-866c-498e-b02f-5e2a2e345ef3",
   "metadata": {},
   "outputs": [
    {
     "data": {
      "text/plain": [
       "True"
      ]
     },
     "execution_count": 5,
     "metadata": {},
     "output_type": "execute_result"
    }
   ],
   "source": [
    "cv2.imwrite(\"my02.jpg\",img)"
   ]
  },
  {
   "cell_type": "code",
   "execution_count": 6,
   "id": "b57c29a2-17ae-40c4-9960-db29abce08b3",
   "metadata": {},
   "outputs": [
    {
     "data": {
      "text/plain": [
       "671184"
      ]
     },
     "execution_count": 6,
     "metadata": {},
     "output_type": "execute_result"
    }
   ],
   "source": [
    "img.size#像素點個數"
   ]
  },
  {
   "cell_type": "markdown",
   "id": "56b0a1a3-d353-48d4-a4c4-369c42b7eb51",
   "metadata": {},
   "source": [
    "#### 視頻讀取"
   ]
  },
  {
   "cell_type": "code",
   "execution_count": 11,
   "id": "280082fb-7f74-4f2b-b230-ac9f5dc451c0",
   "metadata": {},
   "outputs": [],
   "source": [
    "vc= cv2.VideoCapture('vedio1.mp4')\n",
    "if vc.isOpened():\n",
    "    open.frame =vc.read()\n",
    "else:\n",
    "    open=False"
   ]
  },
  {
   "cell_type": "code",
   "execution_count": 12,
   "id": "8746b88c-531d-4cbb-9374-a79f8904440d",
   "metadata": {},
   "outputs": [],
   "source": [
    "while open:\n",
    "    ret,frame =vc.read()\n",
    "    if frame is None:\n",
    "        break\n",
    "    if ret == True:\n",
    "        gray =cv2.cvtColor(frame,cv2.COLOR_BGR2GRAY)\n",
    "        cv2.imshow('result',gray)\n",
    "        if cv2.waitKey(10) & 0xFF ==27: # 与 0xFF 进行按位与操作是为了只保留低 8 位，确保在不同系统上都能正确识别按键\n",
    "            break\n",
    "vc.release()\n",
    "cv2.destroyAllWindows()"
   ]
  },
  {
   "cell_type": "markdown",
   "id": "390b881d-f689-49a8-97c9-192b30a1b031",
   "metadata": {},
   "source": [
    "#### 截取圖像"
   ]
  },
  {
   "cell_type": "code",
   "execution_count": 9,
   "id": "cd33bece-84b6-4737-956b-ad40461931ca",
   "metadata": {},
   "outputs": [
    {
     "data": {
      "text/plain": [
       "(472, 474, 3)"
      ]
     },
     "execution_count": 9,
     "metadata": {},
     "output_type": "execute_result"
    }
   ],
   "source": [
    "cat = img[0:200,0:200]\n",
    "img.shape"
   ]
  },
  {
   "cell_type": "code",
   "execution_count": 13,
   "id": "b80d414d-f2d9-4ca5-b0e2-26f392563c17",
   "metadata": {},
   "outputs": [],
   "source": [
    "cv2.imshow(\"1234\",cat)\n",
    "cv2.waitKey(2000)\n",
    "cv2.destroyAllWindows()"
   ]
  },
  {
   "cell_type": "markdown",
   "id": "58db334b-f107-49b7-90bc-f5e40d9e4133",
   "metadata": {},
   "source": [
    "#### 顏色通道提取組合"
   ]
  },
  {
   "cell_type": "code",
   "execution_count": 16,
   "id": "45be4cee-e2d7-492a-9416-20e071b3d8f9",
   "metadata": {},
   "outputs": [],
   "source": [
    "b,g,r = cv2.split(img)#分離BGR"
   ]
  },
  {
   "cell_type": "code",
   "execution_count": 17,
   "id": "f9283ce5-4e30-4b43-bd97-a67e7a13e1e5",
   "metadata": {},
   "outputs": [
    {
     "data": {
      "text/plain": [
       "array([[142, 138, 163, ..., 196, 194, 194],\n",
       "       [145, 154, 155, ..., 205, 193, 193],\n",
       "       [139, 157, 137, ..., 181, 186, 186],\n",
       "       ...,\n",
       "       [161, 207, 244, ...,  39,  36,  44],\n",
       "       [ 96, 171, 244, ...,  41,  54,  67],\n",
       "       [ 63, 157, 251, ...,  43,  49,  65]], dtype=uint8)"
      ]
     },
     "execution_count": 17,
     "metadata": {},
     "output_type": "execute_result"
    }
   ],
   "source": [
    "b"
   ]
  },
  {
   "cell_type": "code",
   "execution_count": 19,
   "id": "0bc9a99d-65e9-43b4-aa32-d10d5d06e4cc",
   "metadata": {},
   "outputs": [],
   "source": [
    "img = cv2.merge((b,g,r))#還原圖像"
   ]
  },
  {
   "cell_type": "code",
   "execution_count": 32,
   "id": "7abd670c-52c7-4c76-865c-ab104ae9fc1e",
   "metadata": {},
   "outputs": [],
   "source": [
    "red_img = img.copy()"
   ]
  },
  {
   "cell_type": "code",
   "execution_count": 34,
   "id": "5febf2a7-109a-4f5a-a611-254544d30e63",
   "metadata": {},
   "outputs": [],
   "source": [
    "red_img[:,:,0]=0\n",
    "red_img[:,:,1]=0\n",
    "cv2.imshow(\"red_img\",red_img)\n",
    "cv2.waitKey(2000)\n",
    "cv2.destroyAllWindows()"
   ]
  },
  {
   "cell_type": "markdown",
   "id": "3340edfa-8ada-496e-8c7d-dbebb6ed5db5",
   "metadata": {},
   "source": [
    "#### 邊界填充"
   ]
  },
  {
   "cell_type": "code",
   "execution_count": 3,
   "id": "959d888a-80d2-4423-9bab-7a00a87cfbb2",
   "metadata": {},
   "outputs": [],
   "source": [
    "#\n",
    "def show(img_):\n",
    "    cv2.imshow(\"img_\",img_)\n",
    "    if cv2.waitKey(0) & 0xFF ==27: # 与 0xFF 进行按位与操作是为了只保留低 8 位，确保在不同系统上都能正确识别按键\n",
    "        pass\n",
    "    cv2.destroyAllWindows()\n"
   ]
  },
  {
   "cell_type": "code",
   "execution_count": 62,
   "id": "d4fbd43c-7473-4344-ad04-5b8476a1dc22",
   "metadata": {},
   "outputs": [],
   "source": [
    "\n",
    "img = cv2.imread(\"img1.jpg\")\n",
    "# 定义填充大小\n",
    "top, bottom, left, right = 30, 30, 30, 30\n",
    "\n",
    "# 常數填充\n",
    "constant_padded = cv2.copyMakeBorder(img, top, bottom, left, right, cv2.BORDER_CONSTANT, value=0)\n",
    "show(constant_padded)\n",
    "# 镜像填充\n",
    "reflect_padded = cv2.copyMakeBorder(img, top, bottom, left, right, cv2.BORDER_REFLECT)\n",
    "show(reflect_padded)\n",
    "# 重复填充\n",
    "replicate_padded = cv2.copyMakeBorder(img, top, bottom, left, right, cv2.BORDER_REPLICATE)\n",
    "show(replicate_padded)\n",
    "# 环绕填充\n",
    "wrap_padded = cv2.copyMakeBorder(img, top, bottom, left, right, cv2.BORDER_WRAP)\n",
    "show(wrap_padded)\n"
   ]
  },
  {
   "cell_type": "code",
   "execution_count": 48,
   "id": "18591ca5-99db-45df-9d8a-a91baef014e2",
   "metadata": {},
   "outputs": [],
   "source": [
    "img2 = img +1\n",
    "cv2.add(img,img2)\n",
    "cv2.imshow(\"img2\",img2)\n",
    "cv2.waitKey(2000)\n",
    "cv2.destroyAllWindows()"
   ]
  },
  {
   "cell_type": "markdown",
   "id": "3f17ebff-3f93-4fd3-9b13-5e761efa7089",
   "metadata": {},
   "source": [
    "#### 圖像融合"
   ]
  },
  {
   "cell_type": "code",
   "execution_count": 56,
   "id": "421bd9c0-6632-4035-b99b-8249635bbaff",
   "metadata": {},
   "outputs": [],
   "source": [
    "img_resize = cv2.resize(img,(400,400))\n",
    "#img_resize = cv2.resize(img,(0,0),f=1,f=3)倍數\n",
    "img_resize.size\n",
    "res = cv2.addWeighted(img,0.5,img2,0.5,0)#設置權重\n",
    "plt.imshow(img)"
   ]
  },
  {
   "cell_type": "markdown",
   "id": "e3424797-a57b-4cc4-9c94-3d59725d73fe",
   "metadata": {},
   "source": [
    "#### 腐蝕"
   ]
  },
  {
   "cell_type": "code",
   "execution_count": 60,
   "id": "f5fa5ef4-c95e-4446-befa-7c078733428f",
   "metadata": {},
   "outputs": [],
   "source": [
    "img_f=cv2.imread(\"img_f.png\")\n",
    "kernelForErode = np.ones((3,3),np.uint8)\n",
    "erosion =cv2.erode(img_f,kernelForErode,iterations =2)#迭代次數\n",
    "\n",
    "cv2.imshow(\"erosion\",erosion)\n",
    "cv2.waitKey(5000)\n",
    "cv2.destroyAllWindows()\n"
   ]
  },
  {
   "cell_type": "markdown",
   "id": "d81aa0bf-0a8d-40d3-a2a6-756e763e77eb",
   "metadata": {},
   "source": [
    "#### 膨脹"
   ]
  },
  {
   "cell_type": "code",
   "execution_count": 61,
   "id": "fa4cc432-ed61-4e82-bad7-f58f565a7652",
   "metadata": {},
   "outputs": [],
   "source": [
    "kernelForDilate = np.ones((3,3),np.uint8)\n",
    "img_p = cv2.dilate(erosion,kernelForDilate,iterations=1)\n",
    "\n",
    "cv2.imshow(\"img_p\",img_p)\n",
    "cv2.waitKey(5000)\n",
    "cv2.destroyAllWindows()"
   ]
  },
  {
   "cell_type": "markdown",
   "id": "1d0a9ece-a29f-41f0-aa72-a73b008fc1d2",
   "metadata": {},
   "source": [
    "#### 開運算,閉運算"
   ]
  },
  {
   "cell_type": "code",
   "execution_count": 62,
   "id": "2cc329e6-3bdd-4ffa-ba3c-79dfa60fc904",
   "metadata": {},
   "outputs": [],
   "source": [
    "#先腐蝕再膨脹\n",
    "kernel =np.ones((3,3),np.uint8)\n",
    "#開\n",
    "img_opening = cv2.morphologyEx(img_f,cv2.MORPH_OPEN,kernel)\n",
    "#閉\n",
    "img_closing =cv2.morphologyEx(img_f,cv2.MORPH_CLOSE,kernel)"
   ]
  },
  {
   "cell_type": "markdown",
   "id": "3a367590-9f9f-405b-9e30-a338aee5c264",
   "metadata": {},
   "source": [
    "#### 禮帽,黑帽"
   ]
  },
  {
   "cell_type": "code",
   "execution_count": 63,
   "id": "79b7cb44-919b-49d5-b13c-dafe09f03a0e",
   "metadata": {},
   "outputs": [],
   "source": [
    "kernel =np.ones((3,3),np.uint8)\n",
    "#禮帽=原始輸入 -開運算結果#突出細小線條\n",
    "tophat = cv2.morphologyEx(img_f,cv2.MORPH_TOPHAT,kernel)\n",
    "#黑帽= tophat = cv2.morhologyEx(img_f,cv2.MORPH_TOPHAT,kernel)閉運算-原始輸入\n",
    "blackhat = cv2.morphologyEx(img_f,cv2.MORPH_BLACKHAT,kernel)\n",
    "cv2.imshow(\"hat\",blackhat)\n",
    "cv2.waitKey(5000)\n",
    "cv2.destroyAllWindows()"
   ]
  },
  {
   "cell_type": "markdown",
   "id": "1a9ea4cb-700b-4e44-8d54-dd193eca6899",
   "metadata": {},
   "source": [
    "#### 梯度計算"
   ]
  },
  {
   "cell_type": "code",
   "execution_count": 64,
   "id": "c0cc823d-053f-425f-bc79-c28a0dfdb599",
   "metadata": {},
   "outputs": [],
   "source": [
    "hust =cv2.imread(\"HUST.png\")\n",
    "my_kernel = np.ones((2,2),np.uint8)\n",
    "result = cv2.dilate(hust,my_kernel,iterations=5)\n",
    "my_kernel = np.ones((2,2),np.uint8)\n",
    "result2 =cv2.erode(result,my_kernel,iterations=9)\n",
    "cv2.imshow(\"hust\",result2)\n",
    "cv2.waitKey(5000)\n",
    "cv2.destroyAllWindows()"
   ]
  },
  {
   "cell_type": "markdown",
   "id": "5736adcd-841b-4501-b433-25e49fa91014",
   "metadata": {},
   "source": [
    " ##### sobel算子"
   ]
  },
  {
   "cell_type": "code",
   "execution_count": 113,
   "id": "3f60d5c3-8840-4d8b-beb9-252a1691cd80",
   "metadata": {},
   "outputs": [],
   "source": [
    "img = cv2.imread(\"test_1.png\")\n",
    "img = cv2.imread(\"img1.jpg\",cv2.IMREAD_GRAYSCALE)\n",
    "show(img2)\n",
    "sobelx =cv2.Sobel(img , cv2.CV_64F , 1 , 0 , ksize = 3)#cv2.CV_64F使用64位浮點型,防止負數被改為0\n",
    "sobelx = cv2.convertScaleAbs(sobelx)\n",
    "sobely =cv2.Sobel(img , cv2.CV_64F , 0 , 1 , ksize = 3)#cv2.CV_64F使用64位浮點型,防止負數被改為0\n",
    "sobely = cv2.convertScaleAbs(sobely)\n",
    "sobelxy = cv2.addWeighted(sobelx,0.5,sobely,0.5,0)\n",
    "show(sobelxy)\n",
    "#閉運算加強一下?no\n",
    "sobelxy = cv2.morphologyEx(sobelxy,cv2.MORPH_CLOSE,kernel)\n",
    "show(sobelxy)"
   ]
  },
  {
   "cell_type": "code",
   "execution_count": 56,
   "id": "d9e39de9-c7d7-492c-bdf4-be39658a5865",
   "metadata": {},
   "outputs": [],
   "source": [
    "#不建議整體計算\n",
    "sobelxy2 = cv2.Sobel(img,cv2.CV_64F,1,1,ksize =3)\n",
    "sobelxy2 = cv2.convertScaleAbs(sobelxy2)\n",
    "show(sobelxy2)"
   ]
  },
  {
   "cell_type": "markdown",
   "id": "ee0cd57c-1ffa-447b-a960-f671459c12e9",
   "metadata": {},
   "source": [
    "##### Scharr算子更加敏感,核中的數值更大"
   ]
  },
  {
   "cell_type": "markdown",
   "id": "8cf50870-8208-45e6-a3f5-1d2e67970622",
   "metadata": {},
   "source": [
    "##### laplacian算子,二階導,但是對噪點敏感"
   ]
  },
  {
   "cell_type": "code",
   "execution_count": 73,
   "id": "d71b6aa9-766e-48c7-bb47-ed9884336333",
   "metadata": {},
   "outputs": [],
   "source": [
    "image =cv2.imread(\"img1.jpg\",cv2.IMREAD_GRAYSCALE)\n",
    "# 使用 Scharr 算子计算 x 和 y 方向的梯度\n",
    "scharr_x = cv2.Scharr(image, cv2.CV_64F, 1, 0)\n",
    "scharr_y = cv2.Scharr(image, cv2.CV_64F, 0, 1)\n",
    "\n",
    "# 计算 Scharr 梯度的绝对值\n",
    "scharr_x_abs = np.absolute(scharr_x)\n",
    "scharr_y_abs = np.absolute(scharr_y)\n",
    "\n",
    "# 将 Scharr 梯度转换为 8 位无符号整数\n",
    "scharr_x_8u = np.uint8(scharr_x_abs)\n",
    "scharr_y_8u = np.uint8(scharr_y_abs)\n",
    "\n",
    "# 合并 x 和 y 方向的 Scharr 梯度\n",
    "scharr_combined = cv2.bitwise_or(scharr_x_8u, scharr_y_8u)\n",
    "\n",
    "# 使用 Laplacian 算子计算梯度\n",
    "laplacian = cv2.Laplacian(image, cv2.CV_64F)\n",
    "\n",
    "# 计算 Laplacian 梯度的绝对值\n",
    "laplacian_abs = np.absolute(laplacian)\n",
    "\n",
    "# 将 Laplacian 梯度转换为 8 位无符号整数\n",
    "laplacian_8u = np.uint8(laplacian_abs)\n"
   ]
  },
  {
   "cell_type": "markdown",
   "id": "d6e125a8-a332-4045-8bad-0a1f99788b87",
   "metadata": {},
   "source": [
    "#### 圖像閾值"
   ]
  },
  {
   "cell_type": "code",
   "execution_count": 74,
   "id": "10d75131-163e-40df-af3d-971fa3864cfa",
   "metadata": {},
   "outputs": [],
   "source": [
    "ret,thresh0 = cv2.threshold(img,127,255,cv2.THRESH_BINARY)\n",
    "# 閾值,圖out =（圖in,閾值,最大值,處理方式)"
   ]
  },
  {
   "cell_type": "markdown",
   "id": "5ea066a7-c2f9-4df4-b085-7cad9f93b9c5",
   "metadata": {},
   "source": [
    "#### 1. `cv2.THRESH_BINARY`\n",
    "- **处理方式**：像素灰度值大于阈值时设为最大值（通常 255），小于等于阈值时设为 0，将图像转换为黑白二值图像，用于前景背景分割。\n",
    "#### 2. `cv2.THRESH_BINARY_INV`\n",
    "- **处理方式**：像素灰度值大于阈值时设为 0，小于等于阈值时设为最大值（通常 255），是 `cv2.THRESH_BINARY` 的反向操作。\n",
    "#### 3. `cv2.THRESH_TRUNC`\n",
    "- **处理方式**：像素灰度值大于阈值时设为阈值，小于等于阈值时保持原值，可限制图像灰度范围。\n",
    "#### 4. `cv2.THRESH_TOZERO`\n",
    "- **处理方式**：像素灰度值大于阈值时保持原值，小于等于阈值时设为 0，用于突出高灰度部分。\n",
    "#### 5. `cv2.THRESH_TOZERO_INV`\n",
    "- **处理方式**：像素灰度值大于阈值时设为 0，小于等于阈值时保持原值，用于突出低灰度部分。\n",
    "#### 6. `cv2.THRESH_OTSU`\n",
    "- **处理方式**：这不是一种独立的阈值分割规则，而是一种自动确定全局最优阈值的算法。它会遍历所有可能的阈值，使得分成的两类（前景和背景）的类间方差最大，常和前面几种处理方式结合使用，如 `cv2.THRESH_BINARY + cv2.THRESH_OTSU`。\n",
    "#### 7. `cv2.THRESH_TRIANGLE`\n",
    "- **处理方式**：也是一种自动确定阈值的方法，基于直方图的形状，通过构建三角形模型来找到合适的阈值，适用于具有单峰直方图的图像。同样常和基本阈值处理规则搭配，例如 `cv2.THRESH_BINARY + cv2.THRESH_TRIANGLE`。\n",
    "#### 8. 自适应阈值处理（`cv2.ADAPTIVE_THRESH_MEAN_C` 和 `cv2.ADAPTIVE_THRESH_GAUSSIAN_C`）\n",
    "#### `cv2.ADAPTIVE_THRESH_MEAN_C`\n",
    "- **处理方式**：图像中每个像素的阈值由其邻域像素的平均值减去常数 `C` 得到，能根据图像局部区域的亮度变化调整阈值，适用于光照不均匀的图像。\n",
    "#### `cv2.ADAPTIVE_THRESH_GAUSSIAN_C`\n",
    "- **处理方式**：每个像素的阈值由其邻域像素的加权和（使用高斯窗函数进行加权）减去常数 `C` 得到，相比均值法，更能考虑邻域内像素的分布情况，对噪声有更好的鲁棒性。"
   ]
  },
  {
   "cell_type": "markdown",
   "id": "62a1194b-7c40-45a3-8af6-acbd84db36de",
   "metadata": {},
   "source": [
    "#### 濾波"
   ]
  },
  {
   "cell_type": "code",
   "execution_count": 95,
   "id": "d406a5c2-5edf-48a8-830b-9d10bb20787c",
   "metadata": {},
   "outputs": [],
   "source": [
    "#處理噪點\n",
    "img = cv2.imread(\"HUST.png\")\n",
    "#均值濾波\n",
    "blur = cv2.blur(img,(3,3))\n",
    "#方框濾波,和均值濾波一樣,可以選擇歸一化\n",
    "box = cv2.boxFilter(img,-1,(3,3),normalize=True)\n",
    "#高斯濾波\n",
    "gaussian =cv2.GaussianBlur(img,(3,3),1)\n",
    "#中值濾波,好用\n",
    "median =cv2.medianBlur(img,3)\n",
    "\n",
    "res = np.hstack((box,gaussian,median))\n",
    "show(res)\n"
   ]
  },
  {
   "cell_type": "markdown",
   "id": "afab3470-38cd-4546-acf2-e135d8166a6b",
   "metadata": {},
   "source": [
    "#### canny邊緣檢測"
   ]
  },
  {
   "cell_type": "markdown",
   "id": "ed618487-a6bb-4ac6-8325-4710680f11c2",
   "metadata": {},
   "source": [
    "1.使用高斯濾波器,平滑圖像,濾除噪點\n",
    "2.計算圖像中每個像素點的梯度強度和方向\n",
    "3.用非極大值抑制,消除雜散響應\n",
    "4.用雙閾值檢測真實和潛在邊緣\n",
    "5.抑制孤立弱邊緣"
   ]
  },
  {
   "cell_type": "code",
   "execution_count": 5,
   "id": "2c2a2a03-77cb-45b4-9391-419cb06301d8",
   "metadata": {},
   "outputs": [],
   "source": [
    "img_canny = cv2.imread(\"img1.jpg\")\n",
    "img_canny = cv2.Canny(img_canny,100,170)\n",
    "show(img_canny)"
   ]
  },
  {
   "cell_type": "markdown",
   "id": "9212bf46-cc8a-49ee-be4b-f38d47dd4c44",
   "metadata": {},
   "source": [
    "#### 圖像金字塔"
   ]
  },
  {
   "cell_type": "code",
   "execution_count": 72,
   "id": "1b38df3d-68d6-463b-be94-62c77cae0d01",
   "metadata": {},
   "outputs": [],
   "source": [
    "#gaussian金字塔： up 先卷積,再去除偶數行列 down 填充0,再卷積\n",
    "\n",
    "img_pyr = cv2.imread(\"img1.jpg\")\n",
    "for i in range(10):\n",
    "    img_pyr = cv2.pyrUp(img_pyr)\n",
    "    img_pyr = cv2.pyrDown(img_pyr)\n",
    "show(img_pyr)\n"
   ]
  },
  {
   "cell_type": "code",
   "execution_count": 127,
   "id": "def4aca6-3feb-41b6-959d-36e485615999",
   "metadata": {},
   "outputs": [],
   "source": [
    "#laplacian 金字塔:L=G-pryUp(pryDown(G))\n",
    "show(cv2.imread(\"img1.jpg\")-img_pyr)"
   ]
  },
  {
   "cell_type": "markdown",
   "id": "dc587394-7956-44e7-bdfb-643263d55b30",
   "metadata": {},
   "source": [
    "#### 輪廓"
   ]
  },
  {
   "cell_type": "code",
   "execution_count": 4,
   "id": "b09bf190-36fb-4ac1-b2d4-82a82a674ad6",
   "metadata": {},
   "outputs": [],
   "source": [
    "img = cv2.imread(\"img1.jpg\")\n",
    "img_gray = cv2.cvtColor(img,cv2.COLOR_BGR2GRAY)\n",
    "ret, thresh = cv2.threshold(img_gray,150,255,cv2.THRESH_BINARY)\n",
    "show(thresh)#先二分閾值操作,提高準確度"
   ]
  },
  {
   "cell_type": "code",
   "execution_count": 5,
   "id": "7381d0f4-5a01-45cb-8971-4c1a73934f98",
   "metadata": {},
   "outputs": [],
   "source": [
    "binary,contours,hierarchy = cv2.findContours(thresh,cv2.RETR_TREE,cv2.CHAIN_APPROX_NONE)"
   ]
  },
  {
   "cell_type": "code",
   "execution_count": 9,
   "id": "2678ba12-409c-419a-b846-76799ae1055f",
   "metadata": {},
   "outputs": [],
   "source": [
    "#畫輪廓contours\n",
    "img_contours =img.copy()\n",
    "res =cv2.drawContours(img_contours,contours,-1,(0,0,0),2)#畫布,輪廓,哪些輪廓：-1全部,輪廓顏色,線條厚度\n",
    "show(res)\n",
    "\n",
    "img_gray  = cv2.cvtColor(img-res,cv2.COLOR_BGR2GRAY)\n",
    "show(img_gray)"
   ]
  },
  {
   "cell_type": "markdown",
   "id": "a9e9d8c9-ccc7-43de-9e59-c7193161b04a",
   "metadata": {},
   "source": [
    "#### 輪廓特征"
   ]
  },
  {
   "cell_type": "code",
   "execution_count": 15,
   "id": "ebfedd93-9f42-403c-807e-33ebb5e768dc",
   "metadata": {},
   "outputs": [],
   "source": [
    "#先取出輪廓\n",
    "cot = contours[0]\n",
    "#周長\n",
    "C = cv2.arcLength(cot,True)\n",
    "#面積\n",
    "V  = cv2.contourArea(cot)"
   ]
  },
  {
   "cell_type": "markdown",
   "id": "f3bff951-dd41-4f99-a235-59b122b2739a",
   "metadata": {},
   "source": [
    "#### 輪廓近似"
   ]
  },
  {
   "cell_type": "code",
   "execution_count": 4,
   "id": "96effec4-21f7-4a51-aa03-4e7d6a21f39e",
   "metadata": {},
   "outputs": [],
   "source": [
    "img = cv2.imread(\"test_1.png\")\n",
    "gray = cv2.cvtColor(img,cv2.COLOR_BGR2GRAY)\n",
    "\n",
    "ret , thresh = cv2.threshold(gray,150,255,cv2.THRESH_BINARY)\n",
    "binary ,contours,hierarchy = cv2.findContours(thresh,cv2.RETR_TREE,cv2.CHAIN_APPROX_NONE)\n",
    "\n",
    "cnt = contours[9]\n",
    "img_cot=img.copy()\n",
    "res = cv2.drawContours(img_cot,[cnt],-1,(0,0,255),2)\n",
    "show(res)"
   ]
  },
  {
   "cell_type": "code",
   "execution_count": 5,
   "id": "f1126eb3-ac2f-4512-a846-ae5f1a66db03",
   "metadata": {},
   "outputs": [],
   "source": [
    "epsilon =0.1*cv2.arcLength(cnt,True)#用周長的倍數做分割的閾值\n",
    "approx = cv2.approxPolyDP(cnt,epsilon,True)#輪廓近似,獲得輪廓轉折點\n",
    "\n",
    "img_cot_approx = img.copy()\n",
    "res2 = cv2.drawContours(img_cot_approx,[approx],-1,(0,0,255),2)\n",
    "show(res2)\n",
    "\n"
   ]
  },
  {
   "cell_type": "markdown",
   "id": "8905c939-c86f-4b3b-b981-b1800a4666a3",
   "metadata": {},
   "source": [
    "#### 邊界矩形"
   ]
  },
  {
   "cell_type": "code",
   "execution_count": 1,
   "id": "2061520d-148b-45b5-9127-d86b273bc76a",
   "metadata": {},
   "outputs": [
    {
     "ename": "NameError",
     "evalue": "name 'cv2' is not defined",
     "output_type": "error",
     "traceback": [
      "\u001b[1;31m---------------------------------------------------------------------------\u001b[0m",
      "\u001b[1;31mNameError\u001b[0m                                 Traceback (most recent call last)",
      "Cell \u001b[1;32mIn[1], line 1\u001b[0m\n\u001b[1;32m----> 1\u001b[0m x,y,w,h \u001b[38;5;241m=\u001b[39m cv2\u001b[38;5;241m.\u001b[39mboundingRect(cnt)\n\u001b[0;32m      2\u001b[0m img_rect \u001b[38;5;241m=\u001b[39m cv2\u001b[38;5;241m.\u001b[39mrectangle(img,(x,y),(x\u001b[38;5;241m+\u001b[39mw,y\u001b[38;5;241m+\u001b[39mh),(\u001b[38;5;241m0\u001b[39m,\u001b[38;5;241m255\u001b[39m,\u001b[38;5;241m0\u001b[39m),\u001b[38;5;241m2\u001b[39m)\n\u001b[0;32m      3\u001b[0m show(img_rect)\n",
      "\u001b[1;31mNameError\u001b[0m: name 'cv2' is not defined"
     ]
    }
   ],
   "source": [
    "x,y,w,h = cv2.boundingRect(cnt)\n",
    "img_rect = cv2.rectangle(img,(x,y),(x+w,y+h),(0,255,0),2)\n",
    "show(img_rect)\n",
    "#還有外接圓"
   ]
  },
  {
   "cell_type": "markdown",
   "id": "f41eb1e2-85a1-4699-8542-1ad08827dec8",
   "metadata": {},
   "source": [
    "#### 模版匹配"
   ]
  },
  {
   "cell_type": "code",
   "execution_count": 2,
   "id": "cc2a21d1-1660-4e68-9000-897c9e63e4d7",
   "metadata": {},
   "outputs": [
    {
     "ename": "NameError",
     "evalue": "name 'cv2' is not defined",
     "output_type": "error",
     "traceback": [
      "\u001b[1;31m---------------------------------------------------------------------------\u001b[0m",
      "\u001b[1;31mNameError\u001b[0m                                 Traceback (most recent call last)",
      "Cell \u001b[1;32mIn[2], line 1\u001b[0m\n\u001b[1;32m----> 1\u001b[0m img1 \u001b[38;5;241m=\u001b[39m cv2\u001b[38;5;241m.\u001b[39mimread(\u001b[38;5;124m\"\u001b[39m\u001b[38;5;124mimg1.png\u001b[39m\u001b[38;5;124m\"\u001b[39m)\n\u001b[0;32m      2\u001b[0m img1_ \u001b[38;5;241m=\u001b[39m cv2\u001b[38;5;241m.\u001b[39mimread(\u001b[38;5;124m\"\u001b[39m\u001b[38;5;124mimg1_pic.png\u001b[39m\u001b[38;5;124m\"\u001b[39m)\n\u001b[0;32m      4\u001b[0m h,w \u001b[38;5;241m=\u001b[39m img1_\u001b[38;5;241m.\u001b[39mshape[:\u001b[38;5;241m2\u001b[39m]\n",
      "\u001b[1;31mNameError\u001b[0m: name 'cv2' is not defined"
     ]
    }
   ],
   "source": [
    "img1 = cv2.imread(\"img1.png\")\n",
    "img1_ = cv2.imread(\"img1_pic.png\")\n",
    "\n",
    "h,w = img1_.shape[:2]\n",
    "res = cv2.matchTemplate(img1,img1_,cv2.TM_SQDIFF)\n",
    "res.shape\n",
    "minVal,maxVal,minLoc,maxLoc = cv2.minMaxLoc(res)\n",
    "minVal\n"
   ]
  },
  {
   "cell_type": "code",
   "execution_count": 78,
   "id": "7e69d55c-5014-4bde-a9ab-60131986a4bb",
   "metadata": {},
   "outputs": [],
   "source": [
    "# 基于平方差的方法\n",
    "# TM_SQDIFF（平方差匹配法）\n",
    "# 特点：计算模板与搜索区域对应像素差值的平方和。匹配结果值越小，表示匹配程度越高，当完全匹配时结果为 0。对光照变化比较敏感，因为光照变化会使像素值改变，导致平方差增大。\n",
    "# TM_SQDIFF_NORMED（归一化平方差匹配法）\n",
    "# 特点：是TM_SQDIFF的归一化版本，将平方差结果归一化到 [0, 1] 区间。同样，值越接近 0 表示匹配越好，归一化使得结果不受图像亮度和对比度的影响，具有更好的通用性。\n",
    "# 基于相关性的方法\n",
    "# TM_CCORR（相关性匹配法）\n",
    "# 特点：计算模板与搜索区域的像素值的互相关。它是通过将模板与搜索区域对应像素相乘后求和得到的。匹配结果值越大，表示匹配程度越高。不过，该方法对光照变化比较敏感，因为光照变化会改变像素值，从而影响互相关的计算结果。\n",
    "# TM_CCORR_NORMED（归一化相关性匹配法）\n",
    "# 特点：对TM_CCORR的结果进行归一化处理，将结果归一化到 [0, 1] 区间。值越接近 1 表示匹配越好，归一化操作使得它对光照变化和对比度变化具有一定的鲁棒性。\n",
    "# 基于相关系数的方法\n",
    "# TM_CCOEFF（相关系数匹配法）\n",
    "# 特点：计算模板与搜索区域的相关系数。相关系数衡量的是两个信号之间的线性相关性，值越接近 1 表示匹配程度越高，越接近 -1 表示匹配程度越低，接近 0 表示两者之间没有线性关系。它对光照变化有一定的鲁棒性，因为它考虑了图像的均值。\n",
    "# TM_CCOEFF_NORMED（归一化相关系数匹配法）\n",
    "# 特点：对TM_CCOEFF的结果进行归一化，将结果归一化到 [-1, 1] 区间。同样，值越接近 1 表示匹配越好，归一化后的结果更加稳定，对光照和对比度变化具有较好的鲁棒性，是实际应用中比较常用的方法之一。"
   ]
  },
  {
   "cell_type": "code",
   "execution_count": 80,
   "id": "32d17126-b70b-43b1-88f0-c441b5a3ddda",
   "metadata": {},
   "outputs": [],
   "source": [
    "#匹配多個對象\n",
    "res = cv2.matchTemplate(img1,img1_,cv2.TM_CCOEFF_NORMED)\n",
    "threshold = 0.8#表示匹配結果大於80％\n",
    "loc = np.where(res >= threshold)\n",
    "\n",
    "for pt in zip(*loc[::-1]):\n",
    "    bottom_right = (pt[0] + w,pt[1]+h)\n",
    "    cv2.rectangle(img1,pt,bottom_right,(0,0,255),2)\n",
    "\n",
    "img_pic=cv2.imread(\"img1_pic.png\")\n",
    "#模糊化\n",
    "for i in range(10):\n",
    "    img_pic = cv2.pyrUp(img_pic)\n",
    "    img_pic = cv2.pyrDown(img_pic)\n",
    "\n",
    "\n",
    "\n",
    "top, bottom = int((img1.shape[0]-img_pic.shape[0])/2)+1,int((img1.shape[0]-img_pic.shape[0])/2)\n",
    "left, right=int((img1.shape[1]-img_pic.shape[1])/2)+1,int((img1.shape[1]-img_pic.shape[1])/2)\n",
    "\n",
    "# 常數填充\n",
    "img_pic1 = cv2.copyMakeBorder(img_pic, top, bottom, left, right, cv2.BORDER_CONSTANT, value=0)\n",
    "img_pic1.shape\n",
    "\n",
    "cat = np.hstack((img1,cv2.imread(\"img1.png\"),img_pic1))\n",
    "show(cat)"
   ]
  },
  {
   "cell_type": "markdown",
   "id": "29e744a4-a63f-413b-b6cb-cf2aa0b65d77",
   "metadata": {},
   "source": [
    "#### 直方圖"
   ]
  },
  {
   "cell_type": "code",
   "execution_count": 4,
   "id": "30077d4a-c9ef-4832-9bc1-9de467bbb725",
   "metadata": {},
   "outputs": [
    {
     "ename": "NameError",
     "evalue": "name 'channels' is not defined",
     "output_type": "error",
     "traceback": [
      "\u001b[1;31m---------------------------------------------------------------------------\u001b[0m",
      "\u001b[1;31mNameError\u001b[0m                                 Traceback (most recent call last)",
      "Cell \u001b[1;32mIn[4], line 1\u001b[0m\n\u001b[1;32m----> 1\u001b[0m cv2\u001b[38;5;241m.\u001b[39mcalcHist(img, channels,mask,hisSize,ranges)\n",
      "\u001b[1;31mNameError\u001b[0m: name 'channels' is not defined"
     ]
    }
   ],
   "source": [
    "cv2.calcHist(img, channels,mask,hisSize,ranges)#圖片,顏色通道,掩碼,Bin的數目,像素範圍"
   ]
  },
  {
   "cell_type": "code",
   "execution_count": null,
   "id": "34d5c90d-6f18-4490-b234-9906194336d3",
   "metadata": {},
   "outputs": [],
   "source": [
    "img = cv2.imread(\"C:/Users/17396/pyLearn/imgs/img1.png\",0)\n",
    "show(img)\n",
    "\n",
    "hist= cv2.calcHist([img],[0],None,[256],[0,255])\n",
    "hist.shape"
   ]
  },
  {
   "cell_type": "code",
   "execution_count": null,
   "id": "59939d42-a743-4260-bd4f-470b814ad453",
   "metadata": {},
   "outputs": [],
   "source": [
    "plt.hist(img.ravel(),256)\n",
    "plt.show()"
   ]
  },
  {
   "cell_type": "code",
   "execution_count": 27,
   "id": "8036647c-e434-4684-a4f3-9e995618619b",
   "metadata": {},
   "outputs": [
    {
     "data": {
      "image/png": "[encoded data removed]",
      "text/plain": [
       "<Figure size 640x480 with 1 Axes>"
      ]
     },
     "metadata": {},
     "output_type": "display_data"
    }
   ],
   "source": [
    "color = ('b','g','r')\n",
    "img = img = cv2.imread(\"C:/Users/17396/pyLearn/imgs/img1.png\")\n",
    "for i,col in enumerate(color):\n",
    "    histr = cv2.calcHist([img],[i],None,[256],[0,255])\n",
    "    plt.plot(histr,color = col)\n",
    "    plt.xlim([0,256])\n",
    "plt.show()"
   ]
  },
  {
   "cell_type": "code",
   "execution_count": null,
   "id": "45fe1918-9760-4b91-a895-8ed12852c424",
   "metadata": {},
   "outputs": [],
   "source": [
    "plt.plot(1,2,'o')\n",
    "plt.xlim([0,10])\n",
    "plt.show()"
   ]
  },
  {
   "cell_type": "markdown",
   "id": "2d1c3176-d9fe-4884-a713-6e40a68a02b7",
   "metadata": {},
   "source": [
    "##### 掩碼"
   ]
  },
  {
   "cell_type": "code",
   "execution_count": 31,
   "id": "07506eb7-878c-4d99-8231-d1a6ed1d70ab",
   "metadata": {},
   "outputs": [],
   "source": [
    "mask = np.zeros(img.shape[:2],np.uint8)\n",
    "mask[100:200,100:200] =255\n",
    "show(mask)\n",
    "\n",
    "#與操作\n",
    "masked = cv2.bitwise_and(img,img,mask = mask)\n",
    "show(masked)\n",
    "#填入mask即可"
   ]
  },
  {
   "cell_type": "code",
   "execution_count": 107,
   "id": "b4477f1a-5b13-4172-8f10-ee4c4f310d32",
   "metadata": {},
   "outputs": [
    {
     "data": {
      "image/png": "[encoded data removed]",
      "text/plain": [
       "<Figure size 640x480 with 1 Axes>"
      ]
     },
     "metadata": {},
     "output_type": "display_data"
    }
   ],
   "source": [
    "#均衡化,拉高曝光度,可能提高立體感,但可能丟失細節\n",
    "img = cv2.imread(\"C:/Users/17396/pyLearn/imgs/img1.png\",0)\n",
    "#show(img)\n",
    "equ = cv2.equalizeHist(img)\n",
    "plt.hist(equ.ravel(),256)\n",
    "plt.show()"
   ]
  },
  {
   "cell_type": "code",
   "execution_count": 108,
   "id": "1cb00f6f-803f-489c-b63e-8603d45240f6",
   "metadata": {},
   "outputs": [],
   "source": [
    "res = np.hstack((img,equ))\n",
    "show(res)"
   ]
  },
  {
   "cell_type": "markdown",
   "id": "dfaa409e-206c-4e1c-8e6f-5b084672fab4",
   "metadata": {},
   "source": [
    "##### 自適應均衡化"
   ]
  },
  {
   "cell_type": "code",
   "execution_count": 109,
   "id": "f9ba0ea9-e99b-486f-8e48-d0503a2e8a58",
   "metadata": {},
   "outputs": [],
   "source": [
    "#分塊處理,便於保留細節\n",
    "clahe = cv2.createCLAHE(clipLimit=2.0,tileGridSize=(8,8))\n",
    "res_ = clahe.apply(img)\n",
    "res = np.hstack((img,res_))\n",
    "show(res)"
   ]
  },
  {
   "cell_type": "markdown",
   "id": "78eef0f3-3c02-439f-9623-1678249fd524",
   "metadata": {},
   "source": [
    "#### 傅裡葉變換"
   ]
  },
  {
   "cell_type": "markdown",
   "id": "d0451e71-9abe-4aae-bb75-a971d18e0d01",
   "metadata": {},
   "source": [
    " ##### 濾波器"
   ]
  },
  {
   "cell_type": "code",
   "execution_count": 1,
   "id": "b7221fda-dc4d-4312-97a2-28a46cfcbd66",
   "metadata": {},
   "outputs": [
    {
     "ename": "NameError",
     "evalue": "name 'cv2' is not defined",
     "output_type": "error",
     "traceback": [
      "\u001b[1;31m---------------------------------------------------------------------------\u001b[0m",
      "\u001b[1;31mNameError\u001b[0m                                 Traceback (most recent call last)",
      "Cell \u001b[1;32mIn[1], line 2\u001b[0m\n\u001b[0;32m      1\u001b[0m \u001b[38;5;66;03m#低頻高頻\u001b[39;00m\n\u001b[1;32m----> 2\u001b[0m img \u001b[38;5;241m=\u001b[39m cv2\u001b[38;5;241m.\u001b[39mimread(\u001b[38;5;124m\"\u001b[39m\u001b[38;5;124mC:/Users/17396/pyLearn/imgs/img1.png\u001b[39m\u001b[38;5;124m\"\u001b[39m,\u001b[38;5;241m0\u001b[39m)\n\u001b[0;32m      3\u001b[0m img_f32 \u001b[38;5;241m=\u001b[39m np\u001b[38;5;241m.\u001b[39mfloat32(img)\n\u001b[0;32m      4\u001b[0m show(img)\n",
      "\u001b[1;31mNameError\u001b[0m: name 'cv2' is not defined"
     ]
    }
   ],
   "source": [
    "#低頻高頻\n",
    "img = cv2.imread(\"C:/Users/17396/pyLearn/imgs/img1.png\",0)\n",
    "img_f32 = np.float32(img)\n",
    "show(img)\n",
    "dft = cv2.dft(img_f32,flags = cv2.DFT_COMPLEX_OUTPUT)\n",
    "dft_shift = np.fft.fftshift(dft)#將低頻移動到中間部分\n",
    "ms = 20*np.log(cv2.magnitude(dft_shift[:,:,0],dft_shift[:,:,1]))\n",
    "\n",
    "plt.subplot(122), plt.imshow(ms, cmap='gray')\n",
    "plt.title('Magnitude Spectrum'), plt.xticks([]), plt.yticks([])\n",
    "plt.show()"
   ]
  },
  {
   "cell_type": "code",
   "execution_count": 39,
   "id": "5fbdfa09-fa13-45ff-a6eb-10423fca4021",
   "metadata": {},
   "outputs": [
    {
     "data": {
      "image/png": "[encoded data removed]",
      "text/plain": [
       "<Figure size 640x480 with 1 Axes>"
      ]
     },
     "metadata": {},
     "output_type": "display_data"
    }
   ],
   "source": [
    "w = img.shape[0]\n",
    "y = img.shape[1]\n",
    "\n",
    "mx,my = int(w/2),int(y/2)\n",
    "mask = np.zeros((w,y,2),np.uint8)\n",
    "mask[mx-30:mx+30,my-30:my+30] = 1\n",
    "img_ = dft_shift*mask\n",
    "img_idft = np.fft.ifftshift(img_)\n",
    "res = cv2.idft(img_idft)\n",
    "res = cv2.magnitude(res[:,:,0],res[:,:,1])\n",
    "\n",
    "plt.subplot(122), plt.imshow(res, cmap='gray')\n",
    "plt.title('Magnitude Spectrum'), plt.xticks([]), plt.yticks([])\n",
    "plt.show()"
   ]
  },
  {
   "cell_type": "code",
   "execution_count": 40,
   "id": "37310ed3-d351-497d-a6cf-835d1f05d554",
   "metadata": {},
   "outputs": [
    {
     "data": {
      "image/png": "[encoded data removed]",
      "text/plain": [
       "<Figure size 640x480 with 1 Axes>"
      ]
     },
     "metadata": {},
     "output_type": "display_data"
    }
   ],
   "source": [
    "w = img.shape[0]\n",
    "y = img.shape[1]\n",
    "\n",
    "mx,my = int(w/2),int(y/2)\n",
    "mask = np.ones((w,y,2),np.uint8)\n",
    "mask[mx-30:mx+30,my-30:my+30] = 0\n",
    "img_ = dft_shift*mask\n",
    "img_idft = np.fft.ifftshift(img_)\n",
    "res = cv2.idft(img_idft)\n",
    "res = cv2.magnitude(res[:,:,0],res[:,:,1])\n",
    "\n",
    "plt.subplot(122), plt.imshow(res, cmap='gray')\n",
    "plt.title('Magnitude Spectrum'), plt.xticks([]), plt.yticks([])\n",
    "plt.show()"
   ]
  },
  {
   "cell_type": "code",
   "execution_count": null,
   "id": "331f94c3-c3fb-4ede-b471-49dd2f362692",
   "metadata": {},
   "outputs": [],
   "source": [
    "res_ = "
   ]
  },
  {
   "cell_type": "markdown",
   "id": "2b624ccd-ebed-4157-88fd-2ebde03c5c5e",
   "metadata": {},
   "source": [
    "## 信用卡識別項目"
   ]
  },
  {
   "cell_type": "markdown",
   "id": "30a15cfc-32d0-4e4e-8613-3b056a62dc8e",
   "metadata": {},
   "source": [
    "lianjie\n",
    "#tip:我想做一個項目,用來將數學計算式的圖片轉化為數學代碼;去水印;圖片轉字符串\n"
   ]
  },
  {
   "cell_type": "markdown",
   "id": "ecec6d56-c215-4da4-a44a-21bfbd46ef61",
   "metadata": {},
   "source": [
    "[card](http://localhost:8888/notebooks/pyLearn%2FCard.ipynb \"1.1\")"
   ]
  },
  {
   "cell_type": "markdown",
   "id": "fe41b52f-c0b8-49d7-b9a3-37d0f5b48210",
   "metadata": {},
   "source": [
    "[text]( http://localhost:8888/notebooks/pyLearn%2Ftext.ipynb \"1.1\")"
   ]
  },
  {
   "cell_type": "code",
   "execution_count": 10,
   "id": "257ec11e-c494-48c2-b2bb-3a4be5c6f2f1",
   "metadata": {},
   "outputs": [],
   "source": [
    "#導入了pytesseract,用於文字識別\n",
    "import cv2\n",
    "import pytesseract\n",
    "import os\n",
    "from PIL import Image\n",
    "# img = cv2.imread(\"OpenCV.png\")\n",
    "# gray = cv2.cvtColor(img,cv2.COLOR_BGR2GRAY)\n",
    "#text = pytesseract.image_to_string(Image.open(\"C:/Users/17396/pyLearn/OpenCV.png\"))\n",
    "#print(text)"
   ]
  },
  {
   "cell_type": "markdown",
   "id": "8c0703be-2adb-413a-afeb-37db98e6e045",
   "metadata": {},
   "source": [
    "#### harris角點檢測"
   ]
  },
  {
   "cell_type": "code",
   "execution_count": 23,
   "id": "66e0815b-c631-4fe4-8857-6017467d20cd",
   "metadata": {},
   "outputs": [
    {
     "data": {
      "text/plain": [
       "(472, 474, 3)"
      ]
     },
     "execution_count": 23,
     "metadata": {},
     "output_type": "execute_result"
    }
   ],
   "source": [
    "img = cv2.imread(\"C:/Users/17396/pyLearn/imgs/img1.png\")\n",
    "img_ = cv2.cvtColor(img,cv2.COLOR_BGR2GRAY)\n",
    "dst = cv2.cornerHarris(img_,2,3,0.04)#角點檢測中指定區域大小,SOble算子的窗口大小,取值0.04_0.06\n",
    "img.shape"
   ]
  },
  {
   "cell_type": "code",
   "execution_count": 20,
   "id": "96720485-8606-4c33-827f-5d12094bfa67",
   "metadata": {},
   "outputs": [],
   "source": [
    "img[dst>0.01*dst.max()]=[0,0,255]\n",
    "show(img)"
   ]
  },
  {
   "cell_type": "markdown",
   "id": "9700ab3b-e36c-40fd-98a5-8a5ceb29ab3b",
   "metadata": {},
   "source": [
    "#### SIFT算法"
   ]
  },
  {
   "cell_type": "markdown",
   "id": "45d2cff9-1da1-4d03-8baa-8194da8b5bba",
   "metadata": {},
   "source": [
    "##### 圖像尺度空間"
   ]
  },
  {
   "cell_type": "code",
   "execution_count": 5,
   "id": "ee591e4d-f03b-4d20-81f9-2d79f0945067",
   "metadata": {},
   "outputs": [],
   "source": [
    "#好麻煩聽不懂,還是直接調包吧\n",
    "#好像就是算特征向量,然後匹配特征向量"
   ]
  },
  {
   "cell_type": "code",
   "execution_count": 6,
   "id": "1c51b8df-85eb-4ee5-b36d-e9bc73f179f4",
   "metadata": {},
   "outputs": [
    {
     "data": {
      "text/plain": [
       "'3.4.17'"
      ]
     },
     "execution_count": 6,
     "metadata": {},
     "output_type": "execute_result"
    }
   ],
   "source": [
    "cv2.__version__"
   ]
  },
  {
   "cell_type": "code",
   "execution_count": 17,
   "id": "93a545d4-15f2-46ee-94bc-a7f807a9ad0f",
   "metadata": {},
   "outputs": [],
   "source": [
    "img = cv2.imread(\"C:/Users/17396/pyLearn/imgs/img1.png\")\n",
    "img_ = cv2.cvtColor(img,cv2.COLOR_BGR2GRAY)\n",
    "show(img)\n",
    "\n",
    "sift = cv2.xfeatures2d.SIFT_create()\n",
    "kp = sift.detect(img_,None)"
   ]
  },
  {
   "cell_type": "code",
   "execution_count": 19,
   "id": "c22d67d5-6bda-4f26-ab6f-0d0781e792e5",
   "metadata": {},
   "outputs": [],
   "source": [
    "img1 = cv2.drawKeypoints(img_,kp,img1)\n",
    "res = np.hstack((img1,img))\n",
    "show(res)"
   ]
  },
  {
   "cell_type": "markdown",
   "id": "1f933605-3a5f-4e77-91c7-0695d462a0c5",
   "metadata": {},
   "source": [
    "#### 特征匹配"
   ]
  },
  {
   "cell_type": "code",
   "execution_count": 103,
   "id": "3e7bf1cd-029d-4aaa-b075-e961ceaedac4",
   "metadata": {},
   "outputs": [],
   "source": [
    "img1 = cv2.resize(cv2.imread(\"C:/Users/17396/pyLearn/imgs/w1.jpg\"),(108*5,192*5))\n",
    "img2_ = cv2.resize(cv2.imread(\"C:/Users/17396/pyLearn/imgs/w2.jpg\"),(108*5,192*5))\n",
    "#img2_ = np.hstack((img2,img2))\n",
    "show(np.hstack((img1,img2_)))"
   ]
  },
  {
   "cell_type": "code",
   "execution_count": 104,
   "id": "06f8b92b-2917-4edf-afab-331735b16705",
   "metadata": {},
   "outputs": [],
   "source": [
    "sift = cv2.xfeatures2d.SIFT_create()"
   ]
  },
  {
   "cell_type": "code",
   "execution_count": 105,
   "id": "484600c7-b6ba-4dc6-b413-19ee5f94c65b",
   "metadata": {},
   "outputs": [],
   "source": [
    "kp1,des1 = sift.detectAndCompute(img1,None)\n",
    "kp2,des2 = sift.detectAndCompute(img2_,None)"
   ]
  },
  {
   "cell_type": "code",
   "execution_count": 106,
   "id": "025578f3-5cdc-4794-aad2-00791df1831b",
   "metadata": {},
   "outputs": [],
   "source": [
    "#一對一匹配"
   ]
  },
  {
   "cell_type": "code",
   "execution_count": 107,
   "id": "f2f30c8c-0bdd-4769-bfbf-a207d02a4536",
   "metadata": {},
   "outputs": [],
   "source": [
    "bf = cv2.BFMatcher(crossCheck=True)"
   ]
  },
  {
   "cell_type": "code",
   "execution_count": 108,
   "id": "9be03442-59e5-4bc7-af73-e3a1e76c11f0",
   "metadata": {},
   "outputs": [],
   "source": [
    "matches = bf.match(des1,des2)\n",
    "matches = sorted(matches,key = lambda x:x.distance)"
   ]
  },
  {
   "cell_type": "code",
   "execution_count": 109,
   "id": "25298c32-75c5-4e9a-9ea1-35617c99e2d3",
   "metadata": {},
   "outputs": [],
   "source": [
    "img3 = cv2.drawMatches(img1,kp1,img2_,kp2,matches[:10],None,flags=2)\n",
    "show(img3)"
   ]
  },
  {
   "cell_type": "code",
   "execution_count": 110,
   "id": "15cb4b12-9eac-4f03-89a6-4facc93d5730",
   "metadata": {},
   "outputs": [],
   "source": [
    "#k對最佳值"
   ]
  },
  {
   "cell_type": "code",
   "execution_count": 111,
   "id": "3576c917-c841-47cb-ab5b-9625dde329c7",
   "metadata": {},
   "outputs": [],
   "source": [
    "bf = cv2.BFMatcher()\n",
    "matches = bf.knnMatch(des1,des2,k=2)"
   ]
  },
  {
   "cell_type": "code",
   "execution_count": 112,
   "id": "1804b41e-3f6e-409a-b26d-e422b7fbb673",
   "metadata": {},
   "outputs": [],
   "source": [
    "good=[]\n",
    "for m,n in matches:\n",
    "    if m.distance<0.75*n.distance:\n",
    "        good.append([m])"
   ]
  },
  {
   "cell_type": "code",
   "execution_count": 113,
   "id": "c80ce52a-6fcb-419f-9725-ee6446ae801f",
   "metadata": {},
   "outputs": [],
   "source": [
    "img3 = cv2.drawMatchesKnn(img1,kp1,img2_,kp2,good[:10],None,flags=2)\n",
    "show(img3)"
   ]
  },
  {
   "cell_type": "markdown",
   "id": "ae0cda6c-2afd-4937-84f9-8ebf6222a365",
   "metadata": {},
   "source": [
    "##### RANSAC算法"
   ]
  },
  {
   "cell_type": "code",
   "execution_count": 126,
   "id": "ffa5fbf6-c6df-48e9-bbf9-c9dbe9205d09",
   "metadata": {},
   "outputs": [],
   "source": [
    "class Stitcher:\n",
    "    def stitcher (self,imgs,ratio=0.75,reporjTresh= 4.0,showmatches = False):\n",
    "        img_a ,img_b = imgs\n",
    "        (kpsa ,featuresa )=self.detectAndDiscribe(img_a)\n",
    "        (kpsb ,featuresb) =self.detectAndDiscribe(img_b)\n",
    "        M =self.matchPoint(kpsa,kpsb,featuresa,featuresb,ratio,reporjTresh)\n",
    "\n",
    "        if M is None:\n",
    "            return None\n",
    "            \n",
    "        (matches,H,status) = M\n",
    "        res = cv2.warpPerspective(img_a,H,(img_a.shape[1]+img_b.shape[1],img_a.shape[0]))\n",
    "        #print(res.shape)\n",
    "        self.show(res)\n",
    "        #print(img_b.shape)\n",
    "        res[0:img_b.shape[0],0:img_b.shape[1]] = img_b\n",
    "        self.show(res)\n",
    "        return (res)\n",
    "\n",
    "    def show(self,img):\n",
    "        cv2.imshow(\"1\",img)\n",
    "        cv2.waitKey(0)\n",
    "        cv2.destroyAllWindows()\n",
    "        \n",
    "    \n",
    "    def detectAndDiscribe(self,img):\n",
    "        gray = cv2.cvtColor(img,cv2.COLOR_BGR2GRAY)\n",
    "        discriptor = cv2.xfeatures2d.SIFT_create()\n",
    "        (kps,features) = discriptor.detectAndCompute(img,None)\n",
    "        kps = np.float32([kp.pt for kp in kps])\n",
    "        return kps,features\n",
    "\n",
    "    def matchPoint(self,kpsa,kpsb,featuresa,featuresb,ratio,reporjTresh): \n",
    "        matcher = cv2.BFMatcher()\n",
    "        rowMatches = matcher.knnMatch(featuresa,featuresb,2)\n",
    "        matches = []\n",
    "        for m in rowMatches:\n",
    "            if len(m) == 2 and m[0].distance<m[1].distance*ratio:\n",
    "                matches.append((m[0].trainIdx,m[0].queryIdx))\n",
    "\n",
    "        if len(matches)>4:\n",
    "            pa = np.float32([kpsa[i] for (_,i) in matches])\n",
    "            pb = np.float32([kpsb[i] for (i,_) in matches])\n",
    "\n",
    "            (H,status) = cv2.findHomography(pa,pb,cv2.RANSAC,reporjTresh)\n",
    "            return (matches,H,status)\n",
    "        \n",
    "\n",
    "        "
   ]
  },
  {
   "cell_type": "code",
   "execution_count": 133,
   "id": "a90d6f75-468f-4439-8f84-0f3ec28bb08f",
   "metadata": {},
   "outputs": [
    {
     "name": "stdout",
     "output_type": "stream",
     "text": [
      "(862, 485, 3)\n"
     ]
    }
   ],
   "source": [
    "import Utils\n",
    "\n",
    "imga1 = cv2.imread(\"C:/Users/17396/pyLearn/imgs/img_a.jpg\")\n",
    "imgb = cv2.imread(\"C:/Users/17396/pyLearn/imgs/img_b.jpg\")\n",
    "\n",
    "imga = Utils.resize(imga1,int(imga1.shape[0]/4)+5,int(imga1.shape[1]/4))\n",
    "imgb = Utils.resize(imgb,int(imga1.shape[0]/4),int(imga1.shape[1]/4))\n",
    "show(imga)\n",
    "show(imgb)\n",
    "print(imga.shape)\n",
    "stitcher = Stitcher()\n",
    "(res) = stitcher.stitcher([imga,imgb],showmatches = True)\n",
    "\n",
    "show(res)\n"
   ]
  },
  {
   "cell_type": "code",
   "execution_count": null,
   "id": "b2618af4-6bec-4e44-9a0d-15e97cf3c764",
   "metadata": {},
   "outputs": [],
   "source": []
  },
  {
   "cell_type": "code",
   "execution_count": null,
   "id": "68b3b0cf-5ae8-4046-9152-c7c416c644a7",
   "metadata": {},
   "outputs": [],
   "source": []
  },
  {
   "cell_type": "code",
   "execution_count": null,
   "id": "713d195e-b460-482c-b5c0-7796ea142af4",
   "metadata": {},
   "outputs": [],
   "source": []
  },
  {
   "cell_type": "code",
   "execution_count": null,
   "id": "f37cbaa0-dc3a-4980-9cdb-cb0bd5261bf8",
   "metadata": {},
   "outputs": [],
   "source": []
  },
  {
   "cell_type": "code",
   "execution_count": 1,
   "id": "e5449985-ebd8-4264-9668-e7190c4f75ef",
   "metadata": {},
   "outputs": [
    {
     "name": "stdout",
     "output_type": "stream",
     "text": [
      ".................................................                                                   \n",
      "...............................................                                                     \n",
      "...............................................                                                     \n",
      ".........................................                                                           \n",
      ".........................................                                                           \n",
      ".........................................                                                           \n",
      "......................................                                                              \n",
      "....................................                                                                \n",
      "...................................                                                                 \n",
      "................................                                                                    \n",
      "..............................                                                                      \n",
      "..............................                                                                      \n",
      "...........................                                                                         \n",
      "........................                                                                            \n",
      ".......................                                                                             \n",
      ".....................                                                                               \n",
      "...................                                                                                 \n",
      "..................                                                                                  \n",
      ".................                                                                                   \n",
      "..............                                                                                      \n",
      ".............                                                                                       \n",
      "...........                                                                                         \n",
      "........                                                                                            \n",
      ".......                                                                                             \n",
      "......                                                                                              \n",
      "......                                                                                              \n",
      "......                                                                                              \n",
      "....                                                                                                \n",
      "..                                                                                                  \n",
      ".                                                                                                   \n",
      ".                                                 ;                                                 \n",
      ".                                                 *;                                                \n",
      "                                                 .**                                                \n",
      "                                            .  ;+***+.   .                                          \n",
      "                                      ;;...;*******?***;;*+;;+                                      \n",
      "                                .  +...*?????????????*****?*??;..;;                                 \n",
      "                                +*+*?***????????????????????****+;                                  \n",
      "                                 +*??????????????????????**?+++*+;;;+                               \n",
      "                                   .;**????????????????**+**?*****+;                                \n",
      "                                ;  ;;*+*?????????????????*?????++                                   \n",
      "                                *?**????????????????????????????*;;.;+                              \n",
      "                                .*S??????????????????????????***??**+.                              \n",
      "                                   .+????????????????????*?*?+***+.                                 \n",
      "                                +..;*?**?????????????????????*?++;                                  \n",
      "                                *???????????????????????????????*++++*                              \n",
      "                                 ;*??????????????????????????****??*;                               \n",
      "                                   ..????????????????????*?*?+***+                                  \n",
      "                                ++;;???*???????????????????????*;;   .                              \n",
      "                                ;????????????????????????????????****+                              \n",
      "                                 .++?????????????????????*???******;.                               \n",
      "                                     ?*???????????????????+***+++*                                  \n",
      "                                   ;??????????????????????*???*+;;;.                                \n",
      "                             . ;. .*????????????????????????????****.                               \n",
      "  .                        +.***?????????????????????SS?????????????++;;;.;;                        \n",
      ".;++....     ..       .**+ ;???SSSSSS????????????????????????????**????**+;.                        \n",
      "*;.;+??+;. ..?*;;+;  .??*??**??SS?????SS??SSSSS??S???S?SS????????*****++  .      ;*;.. ...          \n",
      "??*??????????S?SS?*. ;SS?SSS???SS??S?SSS??S??S???????S?????***??**?***+;.;*??*. ;****?+;.+;;;       \n",
      "SSS???SSSS?SSS??SS?. .;*??;;*?*S??SSSSSSSSSSS??SS???????S?????????????*++*S?S?????***+****?**+;+;;;;\n",
      "SSSSSSSSSSS??SSSSS?*++++?**????SSSSSSSS???SSSSSSSSSSSSSSSSSSSSSSSSSSSSSSSSSSS??S??????*???????**+**+\n",
      "SSSSSSSSSSSSSSSSSSS?SSSSSSSSSSSSSSSSSSSSSSSSSSSSSSSSSSSSSSSSSSSSSSSSSSSSSSS???SSSS??????S?????SS????\n",
      "SSSSSSSSSSSSSSSSSSSSSSSSSSSSSSSSSSSSSSSSSSSSSSSSSSSSSSSSSSSSSSSSSSSSSSSSSSSSSSSSSS??*++**+??????????\n",
      "SSSSSSSSSSSSSSSSSSSSSSSSSSSSSSSSSSSSSSSSSSSSSSSSSSSSSSSSSSSSSSSSSS??*************++**++++++****SSS??\n",
      "SSSSSSSSSSSSSSSSSSSSSSSSSSSSSSSSSSSSSSSSSSS?SSSSSSSSSSSSSSSSSSSSS**??**??**??*?????S???*???????SSSSS\n",
      "****?SSSSSSSS???SSSSSSSSSSSSSSSSSSSSSSSSS?????SSSSSS?SSSSSSSSSSS**??S?S???S??**????????*???SSSSSSSSS\n",
      "****?+SSSSSSS?**?*??SSSSSSSSSSSSSSSS?????????????*??*??*****?*****????????????***??????+*??SSSSSSSSS\n",
      "*******?*****?****?*???****??**********????????????*??****??*???????????????????????***+**??SSSSSSSS\n",
      "S??S?SSSS?????*????*?????????SS????????S????????????****??????????????????????????????*+??*??SSS??SS\n",
      "SSSSSS??S?????+**?*???????????SSSSS??????????????????*?**???SSSS????SS???SSS??????S???**???*???**???\n",
      "???SSS?SSS????+*??**?S??????S?SSSSSSSS?S?????????????*???????S?S????S?S?SSSS?????SS???**????????????\n",
      "??????*???????+?S?**?SSSSSSSSSSSSSSSSSSS????????????S*S?????SSS?????????SSSSS???S??????*S???????????\n",
      "?????*??SSSS??*?????S?SS??SSSSSSSSSSSSS?SSSSSSSS?SSSSSSSSSSSSSSSSSSS%SSS%SS%SSSSSSSSSS%%%%%%%%%S%S%S\n",
      "%%SS%S%%%%%%SSSSSSSSSSSSS%%S%SSSSS%SS%SSSSS%SS%SSSSSSS?%S?S%S%%S%%?S%S%%SS%SSSSS%SSSSS%%S%%S%%SS%S%%\n",
      "%%SSS?%%S%%SSSSSS?SSSS%SS%SS%S%%SS%SS%SSSSSSSS%%S%%S%%%%%%%%%%%%%%%%%%%%%%%%%%%%%%%%%%%%#%%#%%##%##%\n",
      "############%##%##%###########%#####%##%%##%##%#####################################################\n",
      "########################################@@###########@@@@@@##########@@@#######################@####\n",
      "#%#####%###@@@@@#%###########@@@@######@@@@@@########@@@@@@%###%###%%%#@@@####################@@@@##\n",
      "###########@@@@@@###########@@@@@@#####%SS%@@########@@@@@####SSS##@@@@#######################%#####\n",
      "################%%%##############%%##%*++++*#######@@@@@@@@@##SSS@@@@@@@@############@@@@@####@@#S#S\n",
      "#############%%%%%%SSS%%#@@@@@@@@@@%SS%SSS#%%@@##@@@@@@@@@###%%%##@@@@@@@#####@@@@@#%%%%%@#%S%@@@@##\n",
      "@@@#####%%@@@@#@#%#%%##@@@##%#@#@@@@##@@@@@@#@@@@@@@@@@#@@@@####@@###@@@@@@@#%@@#####%%%%%?**S@@@@@@\n",
      "@@@@####SS%@@@@#%%#%#@@@@#%S%S%#@@@##@###SS**S#@@@@@@@@@@@@@##%##############%@@@@@@@##@@#%%%#@@@@@@\n",
      "@@@####%SS%##@#%%%%#@@@#####%S%%%%####@#S?****#@@@@%%#@@@#%%%#@@@@@@@@@@##%#%#@@@@@@@@##@@@###@@@@@@\n",
      "@##@@###%%##%S%#%%##@@@##@@@@@@@@#%##%#@#????%@@@#S??%@@@#%##################@@@@@@@@@@%###@@@@@@@##\n",
      "@@@@@@###SS%####@@##@@@@@@@@@@@@@@@###%#%%%#%#@@%S???S%%#%%################%##@@@@##%%%%%#@@@@@@@@@@\n",
      "@@@@@@@@##@@@@@@@@@@@#@@@@@@@@@@@@@@####@@#SS%#SSSS%%%S%#####################%%%#%%###%S?+;*#@@@@@@@\n",
      "@@@@@@@@@@@@@@@@@@@@@@@@@@@@@@@@@@@@@###@@####SSSSSSS%####@@@@@@@@@@@@@@@@######%%#@@@@@@#?+;*%@@@@@\n",
      "@###@@@@@@@@@@@@@@@@@@@@@@@@@@@@@@@@@###@@@#S%%%%%SSS##@@@@@@@@@@@@@@@@@@@@@@#####%#@@@@@@#**++S@@@@\n",
      "###%%#@@@@@@@@@@@@@@@@@@@@@@@@@@@@@@@@%@@@@#######%%##@@@@@@@@@@@@@@@@@@@@@@@@@@@@@#@@@@@@%*??*+?@@@\n"
     ]
    }
   ],
   "source": [
    "import cv2\n",
    "\n",
    "# 参数设置\n",
    "chars = '@#%S?*+;.   '\n",
    "new_width = 100\n",
    "\n",
    "# 1. 读取并预处理图像\n",
    "img = cv2.imread(\"C:/Users/17396/pyLearn/imgs/q1.jpg\")\n",
    "gray = cv2.cvtColor(img, cv2.COLOR_BGR2GRAY)\n",
    "height, width = gray.shape\n",
    "new_height = int(height / (width / new_width) * 0.5)\n",
    "resized = cv2.resize(gray, (new_width, new_height), interpolation=cv2.INTER_AREA)\n",
    "\n",
    "# 2. 映射到字符\n",
    "scale = (len(chars)-1)/255\n",
    "ascii_art = []\n",
    "for row in resized:\n",
    "    line = [chars[int(pixel * scale)] for pixel in row]\n",
    "    ascii_art.append(\"\".join(line))\n",
    "\n",
    "# 3. 输出\n",
    "print(\"\\n\".join(ascii_art))"
   ]
  },
  {
   "cell_type": "code",
   "execution_count": 4,
   "id": "2942ff64-b6c2-476a-875a-57cf539b3ae4",
   "metadata": {},
   "outputs": [],
   "source": [
    "import cv2\n",
    "import numpy as np\n",
    "import Utils\n",
    "fcolor = cv2.imread(\"C:/Users/17396/pyLearn/imgs/std_color_red1.png\")\n",
    "Utils.show(fcolor)"
   ]
  },
  {
   "cell_type": "markdown",
   "id": "ea29bcde-e571-494d-8cac-a046ba030b1e",
   "metadata": {},
   "source": [
    "# pytorch"
   ]
  },
  {
   "cell_type": "code",
   "execution_count": 2,
   "id": "f93ef335-1247-4728-950d-55d829b9213b",
   "metadata": {},
   "outputs": [],
   "source": [
    "import torch as t\n",
    "%matplotlib inline\n",
    "import numpy as np\n",
    "import matplotlib.pyplot as plt#便於展示的工具,顯示圖標\n",
    "from IPython import display"
   ]
  },
  {
   "cell_type": "code",
   "execution_count": null,
   "id": "51b8fcac-da7d-4594-8859-3c1f05fccc0d",
   "metadata": {},
   "outputs": [],
   "source": [
    "A = t.arange(1,5).reshape(2,2).float()\n",
    "\n",
    "device = t.device('cpu')\n",
    "#plt.plot(A[:,0],A[:,1],'o')\n",
    "plt.plot(1,2,'o')\n",
    "plt.show()"
   ]
  },
  {
   "cell_type": "code",
   "execution_count": null,
   "id": "ddc7ecad-11a7-43a6-bca3-ba67df38e688",
   "metadata": {},
   "outputs": [],
   "source": [
    "\n",
    "t.manual_seed(2024)\n",
    "\n",
    "def get_fake_data(batch_size):\n",
    "    x = t.rand(batch_size,1,device = device)*5\n",
    "    y = x*2+3+t.randn(batch_size,1,device=device)\n",
    "    return x,y    \n",
    "\n",
    "x,y = get_fake_data(batch_size = 16)\n",
    "plt.scatter(x.squeeze().cpu().numpy(),y.squeeze().cpu().numpy())\n",
    "plt.show()\n"
   ]
  },
  {
   "cell_type": "code",
   "execution_count": null,
   "id": "43f4d913-5b94-428e-95d8-88ab149a0715",
   "metadata": {},
   "outputs": [],
   "source": [
    "\n",
    "### autograd\n",
    "\n",
    "import torch as t\n",
    "a = t.randn(3,4,requires_grad = True)\n",
    "a.requires_grad\n",
    "\n",
    "a = t.randn(3,4)\n",
    "a.requires_grad = True\n",
    "\n",
    "b = t.zeros(3,4).requires_grad_()\n",
    "c = (2*a+b).sum()\n",
    "c.backward()\n",
    "c\n",
    "\n",
    "a.grad\n",
    "\n",
    "a.is_leaf,b.is_leaf,c.is_leaf\n",
    "\n",
    "def f(x):\n",
    "    y = x**2*t.exp(x)\n",
    "    return y\n",
    "\n",
    "\n",
    "x = t.randn(3,4,requires_grad = True)\n",
    "y = f(x)\n",
    "y\n",
    "\n",
    "y.backward(t.ones(y.size()))\n",
    "x.grad\n",
    "\n",
    "\n",
    "import torch as t\n",
    "%matplotlib inline\n",
    "import numpy as np\n",
    "import myUtils\n",
    "import matplotlib.pyplot as plt\n",
    "from IPython import display\n",
    "\n",
    "device = t.device('cpu')\n",
    "\n",
    "import torch as t\n",
    "x = t.ones(1)\n",
    "b = t.rand(1,requires_grad = True)\n",
    "w = t.rand(1,requires_grad = True)\n",
    "y = w*x\n",
    "y.retain_grad()#保存非葉子節點的梯度\n",
    "z = y+b\n",
    "\n",
    "y.requires_grad\n",
    "\n",
    "y.grad_fn\n",
    "z.backward()\n",
    "\n",
    "y.grad\n",
    "\n",
    "x.grad_fn==None\n",
    "\n",
    "with t.no_grad():#不保存梯度\n",
    "    tq = z**2\n",
    "\n",
    "tq.requires_grad\n",
    "\n",
    "y1 = y.detach()\n",
    "#y1不可導,且y1是葉節點\n",
    "y1,y,y1.is_leaf\n",
    "\n",
    "\n",
    "\n",
    "A = t.arange(1,5).reshape(2,2).float()\n",
    "A\n",
    "\n",
    "\n",
    "\n",
    "import torch as t\n",
    "%matplotlib inline\n",
    "import numpy as np\n",
    "import myUtils\n",
    "import matplotlib.pyplot as plt\n",
    "from IPython import display\n",
    "\n",
    "device = t.device('cpu')\n",
    "plt.plot(1,2,'o')\n",
    "plt.show()\n",
    "\n",
    "\n",
    "\n",
    "### \n"
   ]
  }
 ],
 "metadata": {
  "kernelspec": {
   "display_name": "Python 3 (ipykernel)",
   "language": "python",
   "name": "python3"
  },
  "language_info": {
   "codemirror_mode": {
    "name": "ipython",
    "version": 3
   },
   "file_extension": ".py",
   "mimetype": "text/x-python",
   "name": "python",
   "nbconvert_exporter": "python",
   "pygments_lexer": "ipython3",
   "version": "3.12.7"
  }
 },
 "nbformat": 4,
 "nbformat_minor": 5
}
