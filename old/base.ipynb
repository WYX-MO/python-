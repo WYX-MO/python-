{
 "cells": [
  {
   "cell_type": "markdown",
   "id": "cdc54bd4-db19-4a11-8f5e-0cbf2e01a57d",
   "metadata": {},
   "source": [
    "Python語法\n"
   ]
  },
  {
   "cell_type": "code",
   "execution_count": 1,
   "id": "ffbcace1-cb28-4eab-80de-8dd3c14e81fa",
   "metadata": {},
   "outputs": [
    {
     "data": {
      "text/plain": [
       "[12, 3, 4, 'str', 2.3, 1, 2, 3, 4]"
      ]
     },
     "execution_count": 1,
     "metadata": {},
     "output_type": "execute_result"
    }
   ],
   "source": [
    "tang =[12,3,4,'str',2.3]\n",
    "a =[1,2,3,4]\n",
    "ta = tang +a\n",
    "a='q'\n",
    "type(a)\n",
    "len(tang)\n",
    "ta"
   ]
  },
  {
   "cell_type": "code",
   "execution_count": 2,
   "id": "d0ec5f39-023e-4086-a6cb-1421f9cbe300",
   "metadata": {},
   "outputs": [],
   "source": [
    "ta[0:3]=[1]*3"
   ]
  },
  {
   "cell_type": "code",
   "execution_count": 3,
   "id": "51c8a752-3679-46ec-b4b3-37f7dfa4a6dd",
   "metadata": {},
   "outputs": [
    {
     "data": {
      "text/plain": [
       "True"
      ]
     },
     "execution_count": 3,
     "metadata": {},
     "output_type": "execute_result"
    }
   ],
   "source": [
    "1 in ta"
   ]
  },
  {
   "cell_type": "code",
   "execution_count": 4,
   "id": "c69179c8-5827-4d82-9d1b-6b87fb38995a",
   "metadata": {},
   "outputs": [],
   "source": [
    "a =[1,1,1,2,3,44,44,5]\n",
    "a.count(44)\n",
    "a.index(44)\n",
    "a.append('1')\n",
    "a.insert(2,\"python\")\n",
    "a.remove(44)"
   ]
  },
  {
   "cell_type": "markdown",
   "id": "26167226-016a-4819-9a95-7621021705ef",
   "metadata": {},
   "source": [
    "字典"
   ]
  },
  {
   "cell_type": "code",
   "execution_count": 5,
   "id": "c915d46d-56e7-4e2e-9074-480572699a9f",
   "metadata": {},
   "outputs": [
    {
     "data": {
      "text/plain": [
       "{1: 123, 2: [1, 2, 3]}"
      ]
     },
     "execution_count": 5,
     "metadata": {},
     "output_type": "execute_result"
    }
   ],
   "source": [
    "dir = {}\n",
    "dir[1]=123\n",
    "dir[2]= [1,2,3]\n",
    "dir"
   ]
  },
  {
   "cell_type": "markdown",
   "id": "cd43462e-00e5-4434-9535-460ea714917e",
   "metadata": {},
   "source": [
    "集合"
   ]
  },
  {
   "cell_type": "code",
   "execution_count": 6,
   "id": "6a9d0fb6-bd6d-4ce6-8cf2-46ad957a7c17",
   "metadata": {},
   "outputs": [],
   "source": [
    "b=[1,2,1,99]\n",
    "b = set(b)"
   ]
  },
  {
   "cell_type": "code",
   "execution_count": 7,
   "id": "18cdfcd1-372c-4eaa-9926-5634eba32f7a",
   "metadata": {},
   "outputs": [
    {
     "data": {
      "text/plain": [
       "{1, 2, 99}"
      ]
     },
     "execution_count": 7,
     "metadata": {},
     "output_type": "execute_result"
    }
   ],
   "source": [
    "b"
   ]
  },
  {
   "cell_type": "code",
   "execution_count": 22,
   "id": "04209229-ee5c-4444-b5f6-b2a93ff4d4c4",
   "metadata": {},
   "outputs": [
    {
     "data": {
      "text/plain": [
       "{1, 2, 3, 4, 5, 6, 7, 88}"
      ]
     },
     "execution_count": 22,
     "metadata": {},
     "output_type": "execute_result"
    }
   ],
   "source": [
    "di=set({1,2,3,4,5,6,7,88,88})\n",
    "di"
   ]
  },
  {
   "cell_type": "markdown",
   "id": "48fba7d3-b997-43f7-afec-79e784eceb12",
   "metadata": {},
   "source": [
    "並集"
   ]
  },
  {
   "cell_type": "code",
   "execution_count": 9,
   "id": "bc5bc35d-56a3-462e-aba1-296cb9085bdb",
   "metadata": {},
   "outputs": [
    {
     "data": {
      "text/plain": [
       "{1, 2, 3, 4, 5, 6, 7, 88, 99}"
      ]
     },
     "execution_count": 9,
     "metadata": {},
     "output_type": "execute_result"
    }
   ],
   "source": [
    "a.union(b)"
   ]
  },
  {
   "cell_type": "markdown",
   "id": "8a2f7eee-dd94-4cb3-b3f3-e967b7cfb3d4",
   "metadata": {},
   "source": [
    "交集"
   ]
  },
  {
   "cell_type": "code",
   "execution_count": 10,
   "id": "d59eca84-3693-4d83-8d6c-6ad96b5d70e4",
   "metadata": {},
   "outputs": [
    {
     "data": {
      "text/plain": [
       "{1, 2}"
      ]
     },
     "execution_count": 10,
     "metadata": {},
     "output_type": "execute_result"
    }
   ],
   "source": [
    "a.intersection(b)"
   ]
  },
  {
   "cell_type": "code",
   "execution_count": 11,
   "id": "a03c61de-7a0e-4348-82fe-b26e01f8b50f",
   "metadata": {},
   "outputs": [
    {
     "data": {
      "text/plain": [
       "{3, 4, 5, 6, 7, 88}"
      ]
     },
     "execution_count": 11,
     "metadata": {},
     "output_type": "execute_result"
    }
   ],
   "source": [
    "a.difference(b)"
   ]
  },
  {
   "cell_type": "code",
   "execution_count": 12,
   "id": "7a3f89c1-963c-4646-9738-f3517889eebf",
   "metadata": {},
   "outputs": [
    {
     "data": {
      "text/plain": [
       "{3, 4, 5, 6, 7, 88}"
      ]
     },
     "execution_count": 12,
     "metadata": {},
     "output_type": "execute_result"
    }
   ],
   "source": [
    "a-b"
   ]
  },
  {
   "cell_type": "code",
   "execution_count": 13,
   "id": "05b37d52-7e7f-4171-8ca6-74ce9f41b703",
   "metadata": {},
   "outputs": [
    {
     "data": {
      "text/plain": [
       "{99}"
      ]
     },
     "execution_count": 13,
     "metadata": {},
     "output_type": "execute_result"
    }
   ],
   "source": [
    "b-a"
   ]
  },
  {
   "cell_type": "code",
   "execution_count": 14,
   "id": "654221f4-a593-4512-b947-c32da8ea0ab3",
   "metadata": {},
   "outputs": [
    {
     "data": {
      "text/plain": [
       "{99}"
      ]
     },
     "execution_count": 14,
     "metadata": {},
     "output_type": "execute_result"
    }
   ],
   "source": [
    "b.difference(a)"
   ]
  },
  {
   "cell_type": "code",
   "execution_count": 15,
   "id": "adddc371-d503-4185-ba18-a2e5aab5c15d",
   "metadata": {},
   "outputs": [
    {
     "data": {
      "text/plain": [
       "False"
      ]
     },
     "execution_count": 15,
     "metadata": {},
     "output_type": "execute_result"
    }
   ],
   "source": [
    "b.issubset(a)#子集"
   ]
  },
  {
   "cell_type": "code",
   "execution_count": 16,
   "id": "184895d6-3d99-4068-ba02-7f27d0095f0f",
   "metadata": {},
   "outputs": [],
   "source": [
    "a.update([123])\n"
   ]
  },
  {
   "cell_type": "markdown",
   "id": "7c41e60d-1dca-466e-a5c4-1ebf010a64c5",
   "metadata": {},
   "source": [
    "函數"
   ]
  },
  {
   "cell_type": "code",
   "execution_count": 46,
   "id": "f3f626f0-9392-4add-a8cd-984cd5d3b6f9",
   "metadata": {},
   "outputs": [],
   "source": [
    "def a(arg,*manyArgs):\n",
    "    return (arg+manyArgs[0])\n"
   ]
  },
  {
   "cell_type": "code",
   "execution_count": 47,
   "id": "bf8f10f2-fe56-4ea6-b17c-9dd4b1f1c17b",
   "metadata": {},
   "outputs": [],
   "source": [
    "di = {}\n",
    "di[1]=\"1\"\n",
    "def b(arg,**dictionary):\n",
    "    print( dictionary.items()[0])"
   ]
  },
  {
   "cell_type": "code",
   "execution_count": 48,
   "id": "e4c69d34-1dc6-4cf6-a922-b9bc0e03a9df",
   "metadata": {},
   "outputs": [],
   "source": [
    "bbb=a(2,1,2)"
   ]
  },
  {
   "cell_type": "code",
   "execution_count": 49,
   "id": "283c9a67-65ee-4080-ab15-c51fccebdef0",
   "metadata": {},
   "outputs": [
    {
     "data": {
      "text/plain": [
       "3"
      ]
     },
     "execution_count": 49,
     "metadata": {},
     "output_type": "execute_result"
    }
   ],
   "source": [
    "bbb"
   ]
  },
  {
   "cell_type": "markdown",
   "id": "b515eb62-7ba2-4452-95c8-bf4d64647a08",
   "metadata": {},
   "source": [
    "異常"
   ]
  },
  {
   "cell_type": "code",
   "execution_count": 61,
   "id": "d3c5d13f-268c-481b-9954-b9b9b5603016",
   "metadata": {},
   "outputs": [
    {
     "name": "stdin",
     "output_type": "stream",
     "text": [
      " q\n"
     ]
    },
    {
     "name": "stdout",
     "output_type": "stream",
     "text": [
      "no\n"
     ]
    }
   ],
   "source": [
    "try:\n",
    "    a = int(input())\n",
    "    print(3/(a+1))\n",
    "# except ValueError:\n",
    "#     print(\"valueError\")\n",
    "# except ZeroDivisionError  :\n",
    "#     print(\"ZeroDivisionError\")\n",
    "except Exception:\n",
    "    print(\"no\")"
   ]
  },
  {
   "cell_type": "code",
   "execution_count": 63,
   "id": "5faea72b-1530-4fd3-ac13-e0526524357d",
   "metadata": {},
   "outputs": [
    {
     "name": "stdin",
     "output_type": "stream",
     "text": [
      " 6\n"
     ]
    },
    {
     "ename": "myexception",
     "evalue": "error",
     "output_type": "error",
     "traceback": [
      "\u001b[1;31m---------------------------------------------------------------------------\u001b[0m",
      "\u001b[1;31mmyexception\u001b[0m                               Traceback (most recent call last)",
      "Cell \u001b[1;32mIn[63], line 6\u001b[0m\n\u001b[0;32m      4\u001b[0m input1 \u001b[38;5;241m=\u001b[39m\u001b[38;5;28mint\u001b[39m( \u001b[38;5;28minput\u001b[39m())\n\u001b[0;32m      5\u001b[0m \u001b[38;5;28;01mif\u001b[39;00m input1 \u001b[38;5;129;01mnot\u001b[39;00m \u001b[38;5;129;01min\u001b[39;00m list1:\n\u001b[1;32m----> 6\u001b[0m     \u001b[38;5;28;01mraise\u001b[39;00m myexception(\u001b[38;5;124m\"\u001b[39m\u001b[38;5;124merror\u001b[39m\u001b[38;5;124m\"\u001b[39m)\n",
      "\u001b[1;31mmyexception\u001b[0m: error"
     ]
    }
   ],
   "source": [
    "class myexception(ValueError):\n",
    "    pass\n",
    "list1 =[1,2,3,4]\n",
    "input1 =int( input())\n",
    "if input1 not in list1:\n",
    "    raise myexception(\"error\")\n"
   ]
  },
  {
   "cell_type": "code",
   "execution_count": 75,
   "id": "a012ab5c-3d3b-4cb1-ae48-b5838115a817",
   "metadata": {},
   "outputs": [
    {
     "name": "stdout",
     "output_type": "stream",
     "text": [
      "no\n"
     ]
    },
    {
     "data": {
      "text/plain": [
       "111"
      ]
     },
     "execution_count": 75,
     "metadata": {},
     "output_type": "execute_result"
    }
   ],
   "source": [
    "a=0\n",
    "try:\n",
    "    a=1/0\n",
    "except:\n",
    "    print(\"no\")\n",
    "finally:\n",
    "    a=111\n",
    "a"
   ]
  },
  {
   "cell_type": "code",
   "execution_count": null,
   "id": "89072a2e-a72a-43b4-a7e3-3b0e49bc9e22",
   "metadata": {},
   "outputs": [],
   "source": []
  }
 ],
 "metadata": {
  "kernelspec": {
   "display_name": "Python 3 (ipykernel)",
   "language": "python",
   "name": "python3"
  },
  "language_info": {
   "codemirror_mode": {
    "name": "ipython",
    "version": 3
   },
   "file_extension": ".py",
   "mimetype": "text/x-python",
   "name": "python",
   "nbconvert_exporter": "python",
   "pygments_lexer": "ipython3",
   "version": "3.12.7"
  }
 },
 "nbformat": 4,
 "nbformat_minor": 5
}
