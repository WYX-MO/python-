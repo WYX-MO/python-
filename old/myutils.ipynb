{
 "cells": [
  {
   "cell_type": "code",
   "execution_count": 5,
   "id": "91888c30-c4e2-442c-b0a6-4f509139af78",
   "metadata": {},
   "outputs": [],
   "source": [
    "# myutils.py\n",
    "import cv2\n",
    "\n",
    "def show(image, window_name='Image'):\n",
    "    cv2.imshow(window_name, image)\n",
    "    cv2.waitKey(0)\n",
    "    cv2.destroyAllWindows()\n",
    "\n",
    "def resize(image, width=None, height=None):\n",
    "    if width is None and height is None:\n",
    "        return image\n",
    "    if width is None:\n",
    "        ratio = height / image.shape[0]\n",
    "        dim = (int(image.shape[1] * ratio), height)\n",
    "    else:\n",
    "        ratio = width / image.shape[1]\n",
    "        dim = (width, int(image.shape[0] * ratio))\n",
    "    resized = cv2.resize(image, dim, interpolation=cv2.INTER_AREA)\n",
    "    return resized\n",
    "\n",
    "def get_contour_area(contour):\n",
    "    return cv2.contourArea(contour)\n",
    "\n",
    "def sort_contours(cnts,method =\"right-to-left\"):\n",
    "    reverse = False\n",
    "    i =0\n",
    "    if method == \"right-to-left\" or method == \"bottom-to-top\":\n",
    "        reverse =  True\n",
    "\n",
    "    if method == \"left-toright\" or method == \"top-to-bottom\":\n",
    "        i =1\n",
    "    boundingBoxes = [cv2.boundingRect(c) for c in cnts]#機損外接矩形\n",
    "    (cnts,boundingBoxes)=zip(*sorted(zip(cnts,boundingBoxes),key = lambda b:b[1][i],reverse=reverse))\n",
    "\n",
    "    return cnts,boundingBoxes"
   ]
  },
  {
   "cell_type": "code",
   "execution_count": null,
   "id": "eca78d59-acaa-4620-b909-74131a529276",
   "metadata": {},
   "outputs": [],
   "source": []
  },
  {
   "cell_type": "code",
   "execution_count": null,
   "id": "dd7ad8ed-c491-4991-bdd7-7c96f975e10b",
   "metadata": {},
   "outputs": [],
   "source": []
  },
  {
   "cell_type": "code",
   "execution_count": null,
   "id": "90461cc1-2609-4114-b8aa-fec8fd5a97c9",
   "metadata": {},
   "outputs": [],
   "source": []
  }
 ],
 "metadata": {
  "kernelspec": {
   "display_name": "Python 3 (ipykernel)",
   "language": "python",
   "name": "python3"
  },
  "language_info": {
   "codemirror_mode": {
    "name": "ipython",
    "version": 3
   },
   "file_extension": ".py",
   "mimetype": "text/x-python",
   "name": "python",
   "nbconvert_exporter": "python",
   "pygments_lexer": "ipython3",
   "version": "3.12.7"
  }
 },
 "nbformat": 4,
 "nbformat_minor": 5
}
