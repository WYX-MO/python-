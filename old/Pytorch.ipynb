{
 "cells": [
  {
   "cell_type": "code",
   "execution_count": 1,
   "id": "06eee0da-df93-4b3b-ab6e-764d0c8b0f3d",
   "metadata": {},
   "outputs": [],
   "source": [
    "import torch as t\n",
    "%matplotlib notebook\n",
    "import numpy as np\n",
    "import myUtils\n",
    "from matplotlib import pyplot as plt\n",
    "from IPython import display\n",
    "\n",
    "device = t.device('cpu')"
   ]
  },
  {
   "cell_type": "code",
   "execution_count": 3,
   "id": "f3017ff2-b255-45ae-83e2-327e7503f15b",
   "metadata": {},
   "outputs": [
    {
     "data": {
      "text/plain": [
       "<torch._C.Generator at 0x1c5edfb5310>"
      ]
     },
     "execution_count": 3,
     "metadata": {},
     "output_type": "execute_result"
    }
   ],
   "source": [
    "t.manual_seed(2021)"
   ]
  },
  {
   "cell_type": "code",
   "execution_count": 4,
   "id": "ac75072e-df7e-4901-b50f-d222d70ae863",
   "metadata": {},
   "outputs": [],
   "source": [
    "def get_fake_data(batch_size):\n",
    "    x = t.rand(batch_size,1,device = device)*5\n",
    "    y = x*2+3+t.randn(batch_size,1,device=device)\n",
    "    return x,y    "
   ]
  },
  {
   "cell_type": "code",
   "execution_count": 5,
   "id": "e2fa1fa6-0cd6-4332-92aa-ce290031b4a5",
   "metadata": {},
   "outputs": [],
   "source": [
    "x,y = get_fake_data(batch_size = 16)\n"
   ]
  },
  {
   "cell_type": "markdown",
   "id": "caba02c9-8fa2-4d43-844f-c491eb195623",
   "metadata": {},
   "source": [
    "### autograd"
   ]
  },
  {
   "cell_type": "code",
   "execution_count": 7,
   "id": "e06c588d-cbfd-4e7b-8bc9-017d2992bb29",
   "metadata": {},
   "outputs": [
    {
     "data": {
      "text/plain": [
       "True"
      ]
     },
     "execution_count": 7,
     "metadata": {},
     "output_type": "execute_result"
    }
   ],
   "source": [
    "import torch as t\n",
    "a = t.randn(3,4,requires_grad = True)\n",
    "a.requires_grad"
   ]
  },
  {
   "cell_type": "code",
   "execution_count": 9,
   "id": "5597f199-b27f-4c5b-b212-e9a54c90f005",
   "metadata": {},
   "outputs": [],
   "source": [
    "a = t.randn(3,4)\n",
    "a.requires_grad = True"
   ]
  },
  {
   "cell_type": "code",
   "execution_count": 16,
   "id": "da4e212a-1f88-45ea-bf32-facf4ac3a3b0",
   "metadata": {},
   "outputs": [
    {
     "data": {
      "text/plain": [
       "tensor(10.0827, grad_fn=<SumBackward0>)"
      ]
     },
     "execution_count": 16,
     "metadata": {},
     "output_type": "execute_result"
    }
   ],
   "source": [
    "b = t.zeros(3,4).requires_grad_()\n",
    "c = (2*a+b).sum()\n",
    "c.backward()\n",
    "c"
   ]
  },
  {
   "cell_type": "code",
   "execution_count": 17,
   "id": "b357051e-660b-4d97-8762-85666f41387e",
   "metadata": {},
   "outputs": [
    {
     "data": {
      "text/plain": [
       "tensor([[3., 3., 3., 3.],\n",
       "        [3., 3., 3., 3.],\n",
       "        [3., 3., 3., 3.]])"
      ]
     },
     "execution_count": 17,
     "metadata": {},
     "output_type": "execute_result"
    }
   ],
   "source": [
    "a.grad"
   ]
  },
  {
   "cell_type": "code",
   "execution_count": 20,
   "id": "0107224b-538a-4ac3-ab43-6860497d3316",
   "metadata": {},
   "outputs": [
    {
     "data": {
      "text/plain": [
       "(True, True, False)"
      ]
     },
     "execution_count": 20,
     "metadata": {},
     "output_type": "execute_result"
    }
   ],
   "source": [
    "a.is_leaf,b.is_leaf,c.is_leaf"
   ]
  },
  {
   "cell_type": "code",
   "execution_count": 28,
   "id": "2b99a965-c71c-4ca0-ae54-d1cfeba5d57c",
   "metadata": {},
   "outputs": [],
   "source": [
    "def f(x):\n",
    "    y = x**2*t.exp(x)\n",
    "    return y\n"
   ]
  },
  {
   "cell_type": "code",
   "execution_count": 40,
   "id": "e4d1a435-53d5-4ad7-9e58-e45cd22dfc52",
   "metadata": {},
   "outputs": [
    {
     "data": {
      "text/plain": [
       "tensor([[3.3164e-01, 3.1586e-01, 2.3801e-02, 9.2090e-01],\n",
       "        [3.6269e-01, 4.9090e-01, 3.0666e+01, 5.4929e-03],\n",
       "        [5.6137e-01, 3.7085e-01, 2.8261e+00, 1.0967e+00]],\n",
       "       grad_fn=<MulBackward0>)"
      ]
     },
     "execution_count": 40,
     "metadata": {},
     "output_type": "execute_result"
    }
   ],
   "source": [
    "x = t.randn(3,4,requires_grad = True)\n",
    "y = f(x)\n",
    "y"
   ]
  },
  {
   "cell_type": "code",
   "execution_count": 41,
   "id": "4e1c1bed-19d5-472c-8910-cfa1cc4e196c",
   "metadata": {},
   "outputs": [
    {
     "data": {
      "text/plain": [
       "tensor([[ 1.7798, -0.4128, -0.2599,  3.6204],\n",
       "        [-0.3730, -0.1919, 61.0521,  0.1591],\n",
       "        [ 2.5489, -0.3649,  8.4056,  4.1106]])"
      ]
     },
     "execution_count": 41,
     "metadata": {},
     "output_type": "execute_result"
    }
   ],
   "source": [
    "y.backward(t.ones(y.size()))\n",
    "x.grad\n"
   ]
  },
  {
   "cell_type": "code",
   "execution_count": 2,
   "id": "0a46fc7f-d599-4749-bca4-f3dd130b8a75",
   "metadata": {},
   "outputs": [],
   "source": [
    "import torch as t\n",
    "%matplotlib inline\n",
    "import numpy as np\n",
    "import myUtils\n",
    "import matplotlib.pyplot as plt\n",
    "from IPython import display\n",
    "\n",
    "device = t.device('cpu')"
   ]
  },
  {
   "cell_type": "code",
   "execution_count": 12,
   "id": "3b8b7674-0151-48f1-a988-dd6c44bd3bec",
   "metadata": {},
   "outputs": [],
   "source": [
    "import torch as t\n",
    "x = t.ones(1)\n",
    "b = t.rand(1,requires_grad = True)\n",
    "w = t.rand(1,requires_grad = True)\n",
    "y = w*x\n",
    "y.retain_grad()#保存非葉子節點的梯度\n",
    "z = y+b"
   ]
  },
  {
   "cell_type": "code",
   "execution_count": 13,
   "id": "fe00bdf9-4814-4f74-927d-e91269162798",
   "metadata": {},
   "outputs": [
    {
     "data": {
      "text/plain": [
       "True"
      ]
     },
     "execution_count": 13,
     "metadata": {},
     "output_type": "execute_result"
    }
   ],
   "source": [
    "y.requires_grad"
   ]
  },
  {
   "cell_type": "code",
   "execution_count": 14,
   "id": "29d07afd-a43f-41a0-b4e4-c37bebf53872",
   "metadata": {},
   "outputs": [],
   "source": [
    "y.grad_fn\n",
    "z.backward()"
   ]
  },
  {
   "cell_type": "code",
   "execution_count": 15,
   "id": "306b57df-9ad0-4fc3-987e-357076168b69",
   "metadata": {},
   "outputs": [
    {
     "data": {
      "text/plain": [
       "tensor([1.])"
      ]
     },
     "execution_count": 15,
     "metadata": {},
     "output_type": "execute_result"
    }
   ],
   "source": [
    "y.grad"
   ]
  },
  {
   "cell_type": "code",
   "execution_count": 16,
   "id": "6ea6c564-a266-455c-afa8-d4e7e8854809",
   "metadata": {},
   "outputs": [
    {
     "data": {
      "text/plain": [
       "True"
      ]
     },
     "execution_count": 16,
     "metadata": {},
     "output_type": "execute_result"
    }
   ],
   "source": [
    "x.grad_fn==None"
   ]
  },
  {
   "cell_type": "code",
   "execution_count": 17,
   "id": "027e79d3-679a-4119-9487-86140baf7e68",
   "metadata": {},
   "outputs": [
    {
     "data": {
      "text/plain": [
       "False"
      ]
     },
     "execution_count": 17,
     "metadata": {},
     "output_type": "execute_result"
    }
   ],
   "source": [
    "with t.no_grad():#不保存梯度\n",
    "    tq = z**2\n",
    "\n",
    "tq.requires_grad"
   ]
  },
  {
   "cell_type": "code",
   "execution_count": 18,
   "id": "4d7c5a62-8fad-4261-8594-6adc05f0baf4",
   "metadata": {},
   "outputs": [
    {
     "data": {
      "text/plain": [
       "(tensor([0.8501]), tensor([0.8501], grad_fn=<MulBackward0>), True)"
      ]
     },
     "execution_count": 18,
     "metadata": {},
     "output_type": "execute_result"
    }
   ],
   "source": [
    "y1 = y.detach()\n",
    "#y1不可導,且y1是葉節點\n",
    "y1,y,y1.is_leaf"
   ]
  },
  {
   "cell_type": "code",
   "execution_count": 19,
   "id": "1e2b9161-acaf-4748-ad82-4f20e3939e47",
   "metadata": {},
   "outputs": [
    {
     "data": {
      "text/plain": [
       "tensor([[1., 2.],\n",
       "        [3., 4.]])"
      ]
     },
     "execution_count": 19,
     "metadata": {},
     "output_type": "execute_result"
    }
   ],
   "source": [
    "A = t.arange(1,5).reshape(2,2).float()\n",
    "A"
   ]
  },
  {
   "cell_type": "code",
   "execution_count": null,
   "id": "1d0f30f1-dff9-4557-b4dd-a690c8ead937",
   "metadata": {},
   "outputs": [],
   "source": [
    "import torch as t\n",
    "%matplotlib inline\n",
    "import numpy as np\n",
    "import myUtils\n",
    "import matplotlib.pyplot as plt\n",
    "from IPython import display\n",
    "\n",
    "device = t.device('cpu')\n",
    "plt.plot(1,2,'o')\n",
    "plt.show()"
   ]
  },
  {
   "cell_type": "code",
   "execution_count": null,
   "id": "b4c3e13c-6dbf-43de-95ba-d18213542175",
   "metadata": {},
   "outputs": [],
   "source": []
  },
  {
   "cell_type": "code",
   "execution_count": null,
   "id": "932ee80b-810d-4ba9-b5c5-973b336074d7",
   "metadata": {},
   "outputs": [],
   "source": []
  }
 ],
 "metadata": {
  "kernelspec": {
   "display_name": "Python 3 (ipykernel)",
   "language": "python",
   "name": "python3"
  },
  "language_info": {
   "codemirror_mode": {
    "name": "ipython",
    "version": 3
   },
   "file_extension": ".py",
   "mimetype": "text/x-python",
   "name": "python",
   "nbconvert_exporter": "python",
   "pygments_lexer": "ipython3",
   "version": "3.12.7"
  }
 },
 "nbformat": 4,
 "nbformat_minor": 5
}
