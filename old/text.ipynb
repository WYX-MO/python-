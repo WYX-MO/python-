{
 "cells": [
  {
   "cell_type": "code",
   "execution_count": 1,
   "id": "9d2dc077-c82d-4aaa-b584-fdd2bbc7af6d",
   "metadata": {},
   "outputs": [],
   "source": [
    "import cv2\n",
    "import Utils\n",
    "import numpy as np\n",
    "\n",
    "img = cv2.imread(\"text.png\")\n",
    "ratio = img.shape[0]/500.0\n",
    "img_ = img.copy()\n",
    "\n",
    "high = int((img_.shape[0])*(500/img_.shape[1]))\n",
    "img = cv2.resize(img_,(500,high))\n",
    "\n",
    "#灰度圖\n",
    "#高斯濾波\n",
    "#canny邊緣檢測\n",
    "#輪廓檢測\n",
    "#輪廓周長排序,測出紙張的輪廓\n",
    "#輪廓近似\n",
    "#  如果是矩形,獲得點\n",
    "#透視變換,利用矩陣進行變換\n",
    "\n",
    "\n"
   ]
  },
  {
   "cell_type": "code",
   "execution_count": null,
   "id": "1b5b9566-309d-41d7-96a3-623cd05f9d2f",
   "metadata": {},
   "outputs": [],
   "source": []
  },
  {
   "cell_type": "code",
   "execution_count": null,
   "id": "5f97531c-14dd-4de5-ae5f-fc40322eece0",
   "metadata": {},
   "outputs": [],
   "source": []
  },
  {
   "cell_type": "code",
   "execution_count": null,
   "id": "548f96d7-33ba-4ad2-91a4-b9c38f95d8ea",
   "metadata": {},
   "outputs": [],
   "source": []
  },
  {
   "cell_type": "code",
   "execution_count": null,
   "id": "9b275996-3265-4b27-8b76-8b97175ac78a",
   "metadata": {},
   "outputs": [],
   "source": []
  },
  {
   "cell_type": "code",
   "execution_count": null,
   "id": "052570ef-31f9-49a0-bd3d-dc112ff2a2e9",
   "metadata": {},
   "outputs": [],
   "source": []
  },
  {
   "cell_type": "code",
   "execution_count": null,
   "id": "c64c60ab-4bc8-45b9-9039-04f31ceffa1c",
   "metadata": {},
   "outputs": [],
   "source": []
  }
 ],
 "metadata": {
  "kernelspec": {
   "display_name": "Python 3 (ipykernel)",
   "language": "python",
   "name": "python3"
  },
  "language_info": {
   "codemirror_mode": {
    "name": "ipython",
    "version": 3
   },
   "file_extension": ".py",
   "mimetype": "text/x-python",
   "name": "python",
   "nbconvert_exporter": "python",
   "pygments_lexer": "ipython3",
   "version": "3.12.7"
  }
 },
 "nbformat": 4,
 "nbformat_minor": 5
}
